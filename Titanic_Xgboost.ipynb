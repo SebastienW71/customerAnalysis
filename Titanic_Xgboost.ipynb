{
 "cells": [
  {
   "cell_type": "markdown",
   "metadata": {},
   "source": [
    "## Titanic Xgboost - Kaggle"
   ]
  },
  {
   "cell_type": "markdown",
   "metadata": {},
   "source": [
    "This workbook is to apply xgboost on titanic dataset, and make a practical sample which can be used in future xgboost model.\n",
    "\n",
    "The data exploration part is on other workbook called 'Titanic_ML_Lab'\n",
    "\n",
    "In this workbook, the main things is below:\n",
    "\n",
    "1. cross validation which is suitable for xgboost\n",
    "   * whats different? it needs set number of boosting round, early stoping round, and the detail for xgboost package in python is little bit different with scikit package.\n",
    "   \n",
    "2. xgboost prameter grid search\n",
    "\n",
    "3. model training (using xgboost.train instead of xgboost.xgbClassifier)\n",
    "\n",
    "4. evaluation (same to other workbook: roc, confusion matrix etc...)"
   ]
  },
  {
   "cell_type": "code",
   "execution_count": 1,
   "metadata": {},
   "outputs": [],
   "source": [
    "import pandas as pd\n",
    "import numpy as np\n",
    "import xgboost as xgb\n",
    "import itertools as it\n",
    "import matplotlib.pyplot as plt\n",
    "import seaborn as sns\n",
    "from sklearn.metrics import roc_auc_score\n",
    "from sklearn.metrics import roc_curve\n",
    "from sklearn.metrics import confusion_matrix\n",
    "from sklearn import metrics\n",
    "from sklearn.metrics import accuracy_score"
   ]
  },
  {
   "cell_type": "markdown",
   "metadata": {},
   "source": [
    "### 1. data preparation"
   ]
  },
  {
   "cell_type": "code",
   "execution_count": 2,
   "metadata": {},
   "outputs": [],
   "source": [
    "# Read the data\n",
    "train = pd.read_csv('E:\\Sebnewrepo\\Leo Study\\week5/train.csv')\n",
    "test = pd.read_csv('E:\\Sebnewrepo\\Leo Study\\week5/test.csv')"
   ]
  },
  {
   "cell_type": "markdown",
   "metadata": {},
   "source": [
    "#### 1.1 Deal with missing value in Age column"
   ]
  },
  {
   "cell_type": "code",
   "execution_count": 3,
   "metadata": {},
   "outputs": [],
   "source": [
    "test['Survived'] = 2\n",
    "union_df = train.append(test)\n",
    "# after append, there will be the duplicate index problem, must reset index here\n",
    "union_df.reset_index(inplace=True)\n",
    "union_df.drop(['index','PassengerId'], inplace=True, axis=1)"
   ]
  },
  {
   "cell_type": "code",
   "execution_count": 4,
   "metadata": {},
   "outputs": [],
   "source": [
    "fill_mean = lambda x: x.fillna(x.mean())\n",
    "union_df['Age'] = union_df.groupby(['Sex','Pclass'])['Age'].apply(fill_mean)"
   ]
  },
  {
   "cell_type": "markdown",
   "metadata": {},
   "source": [
    "#### 02.2 Use binary expression to represent Sex"
   ]
  },
  {
   "cell_type": "code",
   "execution_count": 5,
   "metadata": {},
   "outputs": [
    {
     "data": {
      "text/html": [
       "<div>\n",
       "<style scoped>\n",
       "    .dataframe tbody tr th:only-of-type {\n",
       "        vertical-align: middle;\n",
       "    }\n",
       "\n",
       "    .dataframe tbody tr th {\n",
       "        vertical-align: top;\n",
       "    }\n",
       "\n",
       "    .dataframe thead th {\n",
       "        text-align: right;\n",
       "    }\n",
       "</style>\n",
       "<table border=\"1\" class=\"dataframe\">\n",
       "  <thead>\n",
       "    <tr style=\"text-align: right;\">\n",
       "      <th></th>\n",
       "      <th>Survived</th>\n",
       "      <th>Pclass</th>\n",
       "      <th>Name</th>\n",
       "      <th>Sex</th>\n",
       "      <th>Age</th>\n",
       "      <th>SibSp</th>\n",
       "      <th>Parch</th>\n",
       "      <th>Ticket</th>\n",
       "      <th>Fare</th>\n",
       "      <th>Cabin</th>\n",
       "      <th>Embarked</th>\n",
       "    </tr>\n",
       "  </thead>\n",
       "  <tbody>\n",
       "    <tr>\n",
       "      <th>0</th>\n",
       "      <td>0</td>\n",
       "      <td>3</td>\n",
       "      <td>Braund, Mr. Owen Harris</td>\n",
       "      <td>1</td>\n",
       "      <td>22.0</td>\n",
       "      <td>1</td>\n",
       "      <td>0</td>\n",
       "      <td>A/5 21171</td>\n",
       "      <td>7.2500</td>\n",
       "      <td>NaN</td>\n",
       "      <td>S</td>\n",
       "    </tr>\n",
       "    <tr>\n",
       "      <th>1</th>\n",
       "      <td>1</td>\n",
       "      <td>1</td>\n",
       "      <td>Cumings, Mrs. John Bradley (Florence Briggs Th...</td>\n",
       "      <td>0</td>\n",
       "      <td>38.0</td>\n",
       "      <td>1</td>\n",
       "      <td>0</td>\n",
       "      <td>PC 17599</td>\n",
       "      <td>71.2833</td>\n",
       "      <td>C85</td>\n",
       "      <td>C</td>\n",
       "    </tr>\n",
       "    <tr>\n",
       "      <th>2</th>\n",
       "      <td>1</td>\n",
       "      <td>3</td>\n",
       "      <td>Heikkinen, Miss. Laina</td>\n",
       "      <td>0</td>\n",
       "      <td>26.0</td>\n",
       "      <td>0</td>\n",
       "      <td>0</td>\n",
       "      <td>STON/O2. 3101282</td>\n",
       "      <td>7.9250</td>\n",
       "      <td>NaN</td>\n",
       "      <td>S</td>\n",
       "    </tr>\n",
       "    <tr>\n",
       "      <th>3</th>\n",
       "      <td>1</td>\n",
       "      <td>1</td>\n",
       "      <td>Futrelle, Mrs. Jacques Heath (Lily May Peel)</td>\n",
       "      <td>0</td>\n",
       "      <td>35.0</td>\n",
       "      <td>1</td>\n",
       "      <td>0</td>\n",
       "      <td>113803</td>\n",
       "      <td>53.1000</td>\n",
       "      <td>C123</td>\n",
       "      <td>S</td>\n",
       "    </tr>\n",
       "    <tr>\n",
       "      <th>4</th>\n",
       "      <td>0</td>\n",
       "      <td>3</td>\n",
       "      <td>Allen, Mr. William Henry</td>\n",
       "      <td>1</td>\n",
       "      <td>35.0</td>\n",
       "      <td>0</td>\n",
       "      <td>0</td>\n",
       "      <td>373450</td>\n",
       "      <td>8.0500</td>\n",
       "      <td>NaN</td>\n",
       "      <td>S</td>\n",
       "    </tr>\n",
       "  </tbody>\n",
       "</table>\n",
       "</div>"
      ],
      "text/plain": [
       "   Survived  Pclass                                               Name  Sex  \\\n",
       "0         0       3                            Braund, Mr. Owen Harris    1   \n",
       "1         1       1  Cumings, Mrs. John Bradley (Florence Briggs Th...    0   \n",
       "2         1       3                             Heikkinen, Miss. Laina    0   \n",
       "3         1       1       Futrelle, Mrs. Jacques Heath (Lily May Peel)    0   \n",
       "4         0       3                           Allen, Mr. William Henry    1   \n",
       "\n",
       "    Age  SibSp  Parch            Ticket     Fare Cabin Embarked  \n",
       "0  22.0      1      0         A/5 21171   7.2500   NaN        S  \n",
       "1  38.0      1      0          PC 17599  71.2833   C85        C  \n",
       "2  26.0      0      0  STON/O2. 3101282   7.9250   NaN        S  \n",
       "3  35.0      1      0            113803  53.1000  C123        S  \n",
       "4  35.0      0      0            373450   8.0500   NaN        S  "
      ]
     },
     "execution_count": 5,
     "metadata": {},
     "output_type": "execute_result"
    }
   ],
   "source": [
    "# Transform Sex column to 0(Female) and 1(Male)\n",
    "# use Mapping function\n",
    "union_df['Sex'] = union_df['Sex'].map({'male':1, 'female':0})\n",
    "   \n",
    "union_df.head()"
   ]
  },
  {
   "cell_type": "markdown",
   "metadata": {},
   "source": [
    "#### 02.3 Dummy variable coding on Embarked column"
   ]
  },
  {
   "cell_type": "code",
   "execution_count": 6,
   "metadata": {},
   "outputs": [],
   "source": [
    "# dummy variable on Embarked column\n",
    "\n",
    "embarked_df = pd.get_dummies(union_df[\"Embarked\"], prefix = 'Embarked')\n",
    "union_df = pd.concat([union_df, embarked_df], axis = 1)\n",
    "union_df.drop('Embarked', axis = 1, inplace = True)"
   ]
  },
  {
   "cell_type": "code",
   "execution_count": 7,
   "metadata": {},
   "outputs": [],
   "source": [
    "test = union_df[union_df['Survived'] == 2]\n",
    "\n",
    "train = union_df[union_df['Survived'] != 2]\n",
    "union_df = 0"
   ]
  },
  {
   "cell_type": "code",
   "execution_count": 8,
   "metadata": {},
   "outputs": [
    {
     "name": "stdout",
     "output_type": "stream",
     "text": [
      "missing value on train set\n",
      "Survived        0\n",
      "Pclass          0\n",
      "Name            0\n",
      "Sex             0\n",
      "Age             0\n",
      "SibSp           0\n",
      "Parch           0\n",
      "Ticket          0\n",
      "Fare            0\n",
      "Cabin         687\n",
      "Embarked_C      0\n",
      "Embarked_Q      0\n",
      "Embarked_S      0\n",
      "dtype: int64\n",
      "----------------------------------------\n",
      "missing value on test set\n",
      "Survived        0\n",
      "Pclass          0\n",
      "Name            0\n",
      "Sex             0\n",
      "Age             0\n",
      "SibSp           0\n",
      "Parch           0\n",
      "Ticket          0\n",
      "Fare            1\n",
      "Cabin         327\n",
      "Embarked_C      0\n",
      "Embarked_Q      0\n",
      "Embarked_S      0\n",
      "dtype: int64\n"
     ]
    }
   ],
   "source": [
    "# Check the missing value\n",
    "print('missing value on train set')\n",
    "print(train.isnull().sum())\n",
    "print(\"-\" * 40)\n",
    "print('missing value on test set')\n",
    "print(test.isnull().sum())"
   ]
  },
  {
   "cell_type": "markdown",
   "metadata": {},
   "source": [
    "#### 1.4 Shuffle the train set"
   ]
  },
  {
   "cell_type": "code",
   "execution_count": 9,
   "metadata": {},
   "outputs": [
    {
     "data": {
      "text/html": [
       "<div>\n",
       "<style scoped>\n",
       "    .dataframe tbody tr th:only-of-type {\n",
       "        vertical-align: middle;\n",
       "    }\n",
       "\n",
       "    .dataframe tbody tr th {\n",
       "        vertical-align: top;\n",
       "    }\n",
       "\n",
       "    .dataframe thead th {\n",
       "        text-align: right;\n",
       "    }\n",
       "</style>\n",
       "<table border=\"1\" class=\"dataframe\">\n",
       "  <thead>\n",
       "    <tr style=\"text-align: right;\">\n",
       "      <th></th>\n",
       "      <th>Survived</th>\n",
       "      <th>Pclass</th>\n",
       "      <th>Name</th>\n",
       "      <th>Sex</th>\n",
       "      <th>Age</th>\n",
       "      <th>SibSp</th>\n",
       "      <th>Parch</th>\n",
       "      <th>Ticket</th>\n",
       "      <th>Fare</th>\n",
       "      <th>Cabin</th>\n",
       "      <th>Embarked_C</th>\n",
       "      <th>Embarked_Q</th>\n",
       "      <th>Embarked_S</th>\n",
       "    </tr>\n",
       "  </thead>\n",
       "  <tbody>\n",
       "    <tr>\n",
       "      <th>0</th>\n",
       "      <td>1</td>\n",
       "      <td>2</td>\n",
       "      <td>Louch, Mrs. Charles Alexander (Alice Adelaide ...</td>\n",
       "      <td>0</td>\n",
       "      <td>42.000000</td>\n",
       "      <td>1</td>\n",
       "      <td>0</td>\n",
       "      <td>SC/AH 3085</td>\n",
       "      <td>26.0000</td>\n",
       "      <td>NaN</td>\n",
       "      <td>0</td>\n",
       "      <td>0</td>\n",
       "      <td>1</td>\n",
       "    </tr>\n",
       "    <tr>\n",
       "      <th>1</th>\n",
       "      <td>0</td>\n",
       "      <td>3</td>\n",
       "      <td>Hagland, Mr. Ingvald Olai Olsen</td>\n",
       "      <td>1</td>\n",
       "      <td>25.962264</td>\n",
       "      <td>1</td>\n",
       "      <td>0</td>\n",
       "      <td>65303</td>\n",
       "      <td>19.9667</td>\n",
       "      <td>NaN</td>\n",
       "      <td>0</td>\n",
       "      <td>0</td>\n",
       "      <td>1</td>\n",
       "    </tr>\n",
       "    <tr>\n",
       "      <th>2</th>\n",
       "      <td>1</td>\n",
       "      <td>2</td>\n",
       "      <td>Padro y Manent, Mr. Julian</td>\n",
       "      <td>1</td>\n",
       "      <td>30.815380</td>\n",
       "      <td>0</td>\n",
       "      <td>0</td>\n",
       "      <td>SC/PARIS 2146</td>\n",
       "      <td>13.8625</td>\n",
       "      <td>NaN</td>\n",
       "      <td>1</td>\n",
       "      <td>0</td>\n",
       "      <td>0</td>\n",
       "    </tr>\n",
       "    <tr>\n",
       "      <th>3</th>\n",
       "      <td>1</td>\n",
       "      <td>2</td>\n",
       "      <td>Troutt, Miss. Edwina Celia \"Winnie\"</td>\n",
       "      <td>0</td>\n",
       "      <td>27.000000</td>\n",
       "      <td>0</td>\n",
       "      <td>0</td>\n",
       "      <td>34218</td>\n",
       "      <td>10.5000</td>\n",
       "      <td>E101</td>\n",
       "      <td>0</td>\n",
       "      <td>0</td>\n",
       "      <td>1</td>\n",
       "    </tr>\n",
       "    <tr>\n",
       "      <th>4</th>\n",
       "      <td>1</td>\n",
       "      <td>3</td>\n",
       "      <td>Bing, Mr. Lee</td>\n",
       "      <td>1</td>\n",
       "      <td>32.000000</td>\n",
       "      <td>0</td>\n",
       "      <td>0</td>\n",
       "      <td>1601</td>\n",
       "      <td>56.4958</td>\n",
       "      <td>NaN</td>\n",
       "      <td>0</td>\n",
       "      <td>0</td>\n",
       "      <td>1</td>\n",
       "    </tr>\n",
       "  </tbody>\n",
       "</table>\n",
       "</div>"
      ],
      "text/plain": [
       "   Survived  Pclass                                               Name  Sex  \\\n",
       "0         1       2  Louch, Mrs. Charles Alexander (Alice Adelaide ...    0   \n",
       "1         0       3                    Hagland, Mr. Ingvald Olai Olsen    1   \n",
       "2         1       2                         Padro y Manent, Mr. Julian    1   \n",
       "3         1       2                Troutt, Miss. Edwina Celia \"Winnie\"    0   \n",
       "4         1       3                                      Bing, Mr. Lee    1   \n",
       "\n",
       "         Age  SibSp  Parch         Ticket     Fare Cabin  Embarked_C  \\\n",
       "0  42.000000      1      0     SC/AH 3085  26.0000   NaN           0   \n",
       "1  25.962264      1      0          65303  19.9667   NaN           0   \n",
       "2  30.815380      0      0  SC/PARIS 2146  13.8625   NaN           1   \n",
       "3  27.000000      0      0          34218  10.5000  E101           0   \n",
       "4  32.000000      0      0           1601  56.4958   NaN           0   \n",
       "\n",
       "   Embarked_Q  Embarked_S  \n",
       "0           0           1  \n",
       "1           0           1  \n",
       "2           0           0  \n",
       "3           0           1  \n",
       "4           0           1  "
      ]
     },
     "execution_count": 9,
     "metadata": {},
     "output_type": "execute_result"
    }
   ],
   "source": [
    "# shuffle the train set\n",
    "train = train.sample(frac = 1).reset_index().drop('index', axis = 1)\n",
    "\n",
    "train.head()"
   ]
  },
  {
   "cell_type": "markdown",
   "metadata": {},
   "source": [
    "#### 1.5 Ready to train"
   ]
  },
  {
   "cell_type": "code",
   "execution_count": 10,
   "metadata": {},
   "outputs": [
    {
     "data": {
      "text/html": [
       "<div>\n",
       "<style scoped>\n",
       "    .dataframe tbody tr th:only-of-type {\n",
       "        vertical-align: middle;\n",
       "    }\n",
       "\n",
       "    .dataframe tbody tr th {\n",
       "        vertical-align: top;\n",
       "    }\n",
       "\n",
       "    .dataframe thead th {\n",
       "        text-align: right;\n",
       "    }\n",
       "</style>\n",
       "<table border=\"1\" class=\"dataframe\">\n",
       "  <thead>\n",
       "    <tr style=\"text-align: right;\">\n",
       "      <th></th>\n",
       "      <th>Pclass</th>\n",
       "      <th>Sex</th>\n",
       "      <th>Age</th>\n",
       "      <th>SibSp</th>\n",
       "      <th>Parch</th>\n",
       "      <th>Embarked_S</th>\n",
       "      <th>Embarked_C</th>\n",
       "      <th>Embarked_Q</th>\n",
       "    </tr>\n",
       "  </thead>\n",
       "  <tbody>\n",
       "    <tr>\n",
       "      <th>0</th>\n",
       "      <td>2</td>\n",
       "      <td>0</td>\n",
       "      <td>42.000000</td>\n",
       "      <td>1</td>\n",
       "      <td>0</td>\n",
       "      <td>1</td>\n",
       "      <td>0</td>\n",
       "      <td>0</td>\n",
       "    </tr>\n",
       "    <tr>\n",
       "      <th>1</th>\n",
       "      <td>3</td>\n",
       "      <td>1</td>\n",
       "      <td>25.962264</td>\n",
       "      <td>1</td>\n",
       "      <td>0</td>\n",
       "      <td>1</td>\n",
       "      <td>0</td>\n",
       "      <td>0</td>\n",
       "    </tr>\n",
       "    <tr>\n",
       "      <th>2</th>\n",
       "      <td>2</td>\n",
       "      <td>1</td>\n",
       "      <td>30.815380</td>\n",
       "      <td>0</td>\n",
       "      <td>0</td>\n",
       "      <td>0</td>\n",
       "      <td>1</td>\n",
       "      <td>0</td>\n",
       "    </tr>\n",
       "    <tr>\n",
       "      <th>3</th>\n",
       "      <td>2</td>\n",
       "      <td>0</td>\n",
       "      <td>27.000000</td>\n",
       "      <td>0</td>\n",
       "      <td>0</td>\n",
       "      <td>1</td>\n",
       "      <td>0</td>\n",
       "      <td>0</td>\n",
       "    </tr>\n",
       "    <tr>\n",
       "      <th>4</th>\n",
       "      <td>3</td>\n",
       "      <td>1</td>\n",
       "      <td>32.000000</td>\n",
       "      <td>0</td>\n",
       "      <td>0</td>\n",
       "      <td>1</td>\n",
       "      <td>0</td>\n",
       "      <td>0</td>\n",
       "    </tr>\n",
       "  </tbody>\n",
       "</table>\n",
       "</div>"
      ],
      "text/plain": [
       "   Pclass  Sex        Age  SibSp  Parch  Embarked_S  Embarked_C  Embarked_Q\n",
       "0       2    0  42.000000      1      0           1           0           0\n",
       "1       3    1  25.962264      1      0           1           0           0\n",
       "2       2    1  30.815380      0      0           0           1           0\n",
       "3       2    0  27.000000      0      0           1           0           0\n",
       "4       3    1  32.000000      0      0           1           0           0"
      ]
     },
     "execution_count": 10,
     "metadata": {},
     "output_type": "execute_result"
    }
   ],
   "source": [
    "# Only keep preditors in the train and test table\n",
    "Pred_cols = ['Pclass','Sex','Age','SibSp','Parch','Embarked_S','Embarked_C','Embarked_Q']\n",
    "result_cols = ['Survived']\n",
    "\n",
    "x_train = train[Pred_cols]\n",
    "x_test = test[Pred_cols]\n",
    "y_train = train[result_cols]\n",
    "x_train.head()"
   ]
  },
  {
   "cell_type": "markdown",
   "metadata": {},
   "source": [
    "### 2. XgBoost Model"
   ]
  },
  {
   "cell_type": "code",
   "execution_count": 11,
   "metadata": {},
   "outputs": [],
   "source": [
    "# Kfold and cross validation for xgboost\n",
    "\n",
    "def kfold_index(x_train, k):\n",
    "    if k < 1:\n",
    "        print('K cannot smaller than 1')\n",
    "        return\n",
    "    else:\n",
    "        l = x_train.shape[0] \n",
    "        tail = l % k\n",
    "        q = l // k\n",
    "        index = [0]\n",
    "        output_index = []\n",
    "        # first n_examples % k sub_example have n_examples // k + 1 elements\n",
    "        for i in range(1,tail):\n",
    "            index.append((i*q)+1)\n",
    "        for j in range(tail,k+1):\n",
    "            index.append(j*q+tail)\n",
    "        for m in range(len(index)-1):\n",
    "            output_index.append([index[m],index[m+1]])\n",
    "        if [0, 0] in output_index:\n",
    "            output_index.remove([0, 0])      \n",
    "        #print(output_index)    \n",
    "        return output_index\n",
    "\n",
    "# the evaluation method here is accuracy\n",
    "\n",
    "def cv_xgboost(x_train, y_train, param, num_boosting_round, early_stoping_rounds, kfold):\n",
    "    \n",
    "    import xgboost as xgb\n",
    "    from sklearn import metrics\n",
    "    # get kfold index\n",
    "    index = kfold_index(x_train, kfold)\n",
    "    \n",
    "    #train each sub-combination\n",
    "    auc = []\n",
    "    br = []\n",
    "    for i in range(kfold):\n",
    "        print(index)\n",
    "        cv_xtest = x_train.iloc[index[i][0]:index[i][1],:]\n",
    "        cv_ytest = y_train.iloc[index[i][0]:index[i][1],]\n",
    "        # drop the test sub-set \n",
    "        cv_xtrain = x_train.drop(x_train.index[index[i][0]:index[i][1]])\n",
    "        cv_ytrain = y_train.drop(y_train.index[index[i][0]:index[i][1]])\n",
    "        \n",
    "        # make the dmatrix for xgboost\n",
    "        \n",
    "        d_cvtrain = xgb.DMatrix(data = cv_xtrain, label = cv_ytrain)\n",
    "        d_cvtest = xgb.DMatrix(data = cv_xtest, label = cv_ytest)\n",
    "        \n",
    "        # use xgb.train to train the model\n",
    "        xg_l = xgb.train(params = param, \n",
    "                         dtrain = d_cvtrain, \n",
    "                         num_boost_round = num_boosting_round, \n",
    "                         early_stopping_rounds = early_stoping_rounds, \n",
    "                         evals = [(d_cvtest, 'test_evalset')],\n",
    "                         verbose_eval = False)\n",
    "        \n",
    "        # calculate the auc as the evaluation metric\n",
    "    \n",
    "        fpr, tpr, threshold = roc_curve(cv_ytest, xg_l.predict(d_cvtest))\n",
    "        aa = metrics.auc(fpr, tpr)\n",
    "        auc.append(aa)  \n",
    "        \n",
    "        #get the number of boosting round\n",
    "        \n",
    "        bb = xg_l.best_iteration\n",
    "        br.append(bb)\n",
    "        #xg_l.best_ntree_limit\n",
    "        \n",
    "    return np.mean(auc), np.mean(br)"
   ]
  },
  {
   "cell_type": "markdown",
   "metadata": {},
   "source": [
    "#### parameter set 0\n",
    "\n",
    "param_grid = {\n",
    "    'eta': [0.01, 0.1, 0.2, 0.3],\n",
    "    'objective':['binary:logistic','reg:logistic'],\n",
    "    'subsample': [0.75, 1],\n",
    "    'colsample_bytree': [0.75, 1],\n",
    "    'max_depth': [15, 20, 30],\n",
    "    'gamma': [0, 1, 5],\n",
    "    'num_boosting_round': [50, 100, 200, 500, 1000]\n",
    "}"
   ]
  },
  {
   "cell_type": "code",
   "execution_count": 12,
   "metadata": {},
   "outputs": [],
   "source": [
    "##### parameter set 1\n",
    "\n",
    "param_grid = {\n",
    "    'eta': [0.1, 0.2, 0.3, 0.4],\n",
    "    'objective':['binary:logistic', 'reg:logistic'],\n",
    "    'subsample': [0.75,1],\n",
    "    'colsample_bytree': [0.75,1],\n",
    "    'max_depth': [5],\n",
    "    'gamma': [0, 0.5, 1],\n",
    "    'num_boosting_round': [1000]\n",
    "}"
   ]
  },
  {
   "cell_type": "markdown",
   "metadata": {},
   "source": [
    "##### parameter set 2\n",
    "\n",
    "param_grid = {\n",
    "    'eta': [0.1, 0.15, 0.2, 0.3],\n",
    "    'objective':['reg:logistic'],\n",
    "    'max_depth': [10, 15,20],\n",
    "    'gamma': [0, 1, 2],\n",
    "    'num_boosting_round': [100, 200, 300]\n",
    "}"
   ]
  },
  {
   "cell_type": "code",
   "execution_count": 13,
   "metadata": {},
   "outputs": [
    {
     "name": "stdout",
     "output_type": "stream",
     "text": [
      "['colsample_bytree', 'eta', 'gamma', 'max_depth', 'num_boosting_round', 'objective', 'subsample']\n"
     ]
    }
   ],
   "source": [
    "s = sorted(param_grid)\n",
    "combination = it.product(*(param_grid[Name] for Name in s))\n",
    "print(s)"
   ]
  },
  {
   "cell_type": "code",
   "execution_count": null,
   "metadata": {},
   "outputs": [
    {
     "name": "stdout",
     "output_type": "stream",
     "text": [
      "[[0, 90], [90, 179], [179, 268], [268, 357], [357, 446], [446, 535], [535, 624], [624, 713], [713, 802], [802, 891]]\n"
     ]
    }
   ],
   "source": [
    "# Grid Search with cross validation\n",
    "\n",
    "s = sorted(param_grid)\n",
    "combination = it.product(*(param_grid[Name] for Name in s))\n",
    "\n",
    "score = 0\n",
    "for i in list(combination):\n",
    "    #print(i)\n",
    "    param = {\"objective\": i[5], \n",
    "             \"learning_rate\": i[1],\n",
    "             \"max_depth\": i[3], \n",
    "             \"alpha\": 10, \n",
    "             \"gamma\": i[2],\n",
    "             'colsample_bytree': i[0],\n",
    "             'subsample': i[6],\n",
    "             'eval_metric': 'auc'\n",
    "            }\n",
    "    num_boosting_round = i[4]\n",
    "    \n",
    "    scc, num_round = cv_xgboost(x_train, y_train, param, num_boosting_round, early_stoping_rounds = 30, kfold = 10)\n",
    "    #print(scc)\n",
    "    if scc >= score:\n",
    "        #print('true')\n",
    "        score = scc\n",
    "        opt = i\n",
    "        avg_num_round = num_round\n",
    "\n",
    "print('Best combination of parameters:')\n",
    "print(s)\n",
    "print(opt)\n",
    "print('Average of boosting round for best parameters: %2.0f' % avg_num_round)\n",
    "print('Best auc scores: %2.3f' % score)"
   ]
  },
  {
   "cell_type": "markdown",
   "metadata": {},
   "source": [
    "### 3. Evaluation and output"
   ]
  },
  {
   "cell_type": "markdown",
   "metadata": {},
   "source": [
    "#### 3.1 Train the model"
   ]
  },
  {
   "cell_type": "code",
   "execution_count": 83,
   "metadata": {},
   "outputs": [],
   "source": [
    "# train the model with parameter set\n",
    "p = {\n",
    "    \"objective\": 'reg:logistic', \n",
    "    \"learning_rate\": 0.3,\n",
    "    \"max_depth\": 5, \n",
    "    \"alpha\": 10, \n",
    "    \"gamma\": 0,\n",
    "    'colsample_bytree': 1,\n",
    "    'subsample': 0.75\n",
    "}\n",
    "Dtrain = xgb.DMatrix(data = x_train, label = y_train)\n",
    "Dtest= xgb.DMatrix(x_test)\n",
    "\n",
    "xg_2 = xgb.train(params = p, dtrain = Dtrain, num_boost_round = 60)\n",
    "y_pred_prb = xg_2.predict(Dtest)"
   ]
  },
  {
   "cell_type": "markdown",
   "metadata": {},
   "source": [
    "#### 3.2 ROC and AUC"
   ]
  },
  {
   "cell_type": "code",
   "execution_count": 84,
   "metadata": {},
   "outputs": [
    {
     "name": "stdout",
     "output_type": "stream",
     "text": [
      "AUC is:\n",
      "0.8780185131925138\n"
     ]
    },
    {
     "data": {
      "image/png": "[encoded data removed]",
      "text/plain": [
       "<Figure size 800x480 with 1 Axes>"
      ]
     },
     "metadata": {
      "needs_background": "light"
     },
     "output_type": "display_data"
    }
   ],
   "source": [
    "\n",
    "fpr, tpr, threshold = roc_curve(y_train, xg_2.predict(Dtrain))\n",
    "\n",
    "# Calculate AUC (Area under curve) and ROC figure of the result\n",
    "\n",
    "auc = metrics.auc(fpr, tpr)\n",
    "print('AUC is:')\n",
    "print(auc)\n",
    "plt.figure(figsize=(10, 6), dpi=80)\n",
    "plt.title('ROC')\n",
    "plt.plot(fpr, tpr, label = 'AUC = %0.2f' % auc)\n",
    "plt.legend(loc = 'lower right')\n",
    "plt.plot([0, 1], [0, 1],'r--')\n",
    "plt.xlim([0.0, 1.0])\n",
    "plt.ylim([0.0, 1.05])\n",
    "plt.ylabel('True Positive Rate')\n",
    "plt.xlabel('False Positive Rate')\n",
    "plt.show()"
   ]
  },
  {
   "cell_type": "markdown",
   "metadata": {},
   "source": [
    "#### 3.3 Threshold"
   ]
  },
  {
   "cell_type": "code",
   "execution_count": 85,
   "metadata": {},
   "outputs": [
    {
     "name": "stdout",
     "output_type": "stream",
     "text": [
      "best_threshold is: 0.51\n"
     ]
    },
    {
     "data": {
      "text/plain": [
       "0.841"
      ]
     },
     "execution_count": 85,
     "metadata": {},
     "output_type": "execute_result"
    },
    {
     "data": {
      "image/png": "[encoded data removed]",
      "text/plain": [
       "<Figure size 432x288 with 1 Axes>"
      ]
     },
     "metadata": {
      "needs_background": "light"
     },
     "output_type": "display_data"
    }
   ],
   "source": [
    "m = []\n",
    "n = []\n",
    "for i in range(25,85):\n",
    "    threshold = i/100\n",
    "\n",
    "    predicted_proba = xg_2.predict(Dtrain)\n",
    "    predicted = (predicted_proba [:] >= threshold).astype('int')\n",
    "    n.append(i)\n",
    "    m.append(accuracy_score(y_train,predicted))\n",
    "\n",
    "plt.plot(n,m)\n",
    "\n",
    "# identify the best threshold\n",
    "s = np.argsort(m)[::-1]\n",
    "best_threshold = n[s[0]]\n",
    "print('best_threshold is: %2.2f' % (best_threshold/100))\n",
    "\n",
    "threshold = best_threshold/100\n",
    "\n",
    "predicted_proba = xg_2.predict(Dtrain)\n",
    "predicted = (predicted_proba [:] >= threshold).astype('int')\n",
    "accuracy_score(y_train,predicted).round(3)"
   ]
  },
  {
   "cell_type": "markdown",
   "metadata": {},
   "source": [
    "#### 3.4 Output"
   ]
  },
  {
   "cell_type": "code",
   "execution_count": 86,
   "metadata": {},
   "outputs": [],
   "source": [
    "threshold = 0.51\n",
    "\n",
    "predicted_proba = xg_2.predict(Dtest)\n",
    "predicted = (predicted_proba [:] >= threshold).astype('int')\n",
    "test = pd.read_csv('E:\\Sebnewrepo\\Leo Study\\week5/test.csv')\n",
    "test['Survived'] = predicted\n",
    "output = pd.DataFrame({\n",
    "    'PassengerID' : test['PassengerId'],\n",
    "    'Survived' : test['Survived']\n",
    "})"
   ]
  },
  {
   "cell_type": "code",
   "execution_count": 87,
   "metadata": {},
   "outputs": [],
   "source": [
    "output.to_csv('E:\\Sebnewrepo\\Data/xgb_out.csv')"
   ]
  },
  {
   "cell_type": "code",
   "execution_count": null,
   "metadata": {},
   "outputs": [],
   "source": []
  }
 ],
 "metadata": {
  "kernelspec": {
   "display_name": "Python 3",
   "language": "python",
   "name": "python3"
  },
  "language_info": {
   "codemirror_mode": {
    "name": "ipython",
    "version": 3
   },
   "file_extension": ".py",
   "mimetype": "text/x-python",
   "name": "python",
   "nbconvert_exporter": "python",
   "pygments_lexer": "ipython3",
   "version": "3.8.3"
  }
 },
 "nbformat": 4,
 "nbformat_minor": 4
}
