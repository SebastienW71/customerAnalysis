{
 "cells": [
  {
   "cell_type": "markdown",
   "metadata": {},
   "source": [
    "<font color=Green size=4>Business Question Solving </font>\n",
    "\n",
    "<font size=2> This notebook is using to answer the business question about the customer data table. </font>"
   ]
  },
  {
   "cell_type": "code",
   "execution_count": 3,
   "metadata": {},
   "outputs": [],
   "source": [
    "import pandas as pd\n",
    "import matplotlib.pyplot as plt\n",
    "import seaborn as sns\n",
    "import numpy as np\n",
    "import pandas_profiling\n",
    "\n",
    "aisle_path = 'E:\\Sebnewrepo\\Data/aisles.csv'\n",
    "aisles = pd.read_csv(aisle_path)\n",
    "\n",
    "departments_path = 'E:\\Sebnewrepo\\Data/departments.csv'\n",
    "departments = pd.read_csv(departments_path)\n",
    "\n",
    "order_products_path = 'E:\\Sebnewrepo\\Data/order_products.csv'\n",
    "order_products = pd.read_csv(order_products_path)\n",
    "\n",
    "orders_path = 'E:\\Sebnewrepo\\Data/orders.csv'\n",
    "orders = pd.read_csv(orders_path)\n",
    "\n",
    "products_path = 'E:\\Sebnewrepo\\Data/products.csv'\n",
    "products = pd.read_csv(products_path)"
   ]
  },
  {
   "cell_type": "markdown",
   "metadata": {},
   "source": [
    "<font size=3 color=green style=\"font-family:geneva\">\n",
    "Ticket 01 (Week 1)\n",
    "    </font>"
   ]
  },
  {
   "cell_type": "markdown",
   "metadata": {},
   "source": [
    "Q1. How many products people usually order?"
   ]
  },
  {
   "cell_type": "code",
   "execution_count": 30,
   "metadata": {
    "scrolled": true
   },
   "outputs": [
    {
     "data": {
      "text/plain": [
       "Amount\n",
       "5     237225\n",
       "6     236383\n",
       "4     230299\n",
       "7     228547\n",
       "3     215060\n",
       "8     211357\n",
       "2     194361\n",
       "9     191564\n",
       "10    172103\n",
       "1     163593\n",
       "Name: Amount, dtype: int64"
      ]
     },
     "execution_count": 30,
     "metadata": {},
     "output_type": "execute_result"
    }
   ],
   "source": [
    "groupby01 = order_products['add_to_cart_order'].groupby(order_products['order_id'])\n",
    "amount01 = pd.DataFrame({ 'Amount': groupby01.max()})\n",
    "\n",
    "groupby02 = amount01['Amount'].groupby(amount01['Amount'])\n",
    "groupby02.count().sort_values(ascending = False).head(10)\n"
   ]
  },
  {
   "cell_type": "markdown",
   "metadata": {},
   "source": [
    "Q2. Which products are ordered the most?"
   ]
  },
  {
   "cell_type": "code",
   "execution_count": 35,
   "metadata": {},
   "outputs": [
    {
     "data": {
      "text/plain": [
       "product_name\n",
       "Banana                    491291\n",
       "Bag of Organic Bananas    394930\n",
       "Organic Strawberries      275577\n",
       "Organic Baby Spinach      251705\n",
       "Organic Hass Avocado      220877\n",
       "Organic Avocado           184224\n",
       "Large Lemon               160792\n",
       "Strawberries              149445\n",
       "Limes                     146660\n",
       "Organic Whole Milk        142813\n",
       "Name: product_name, dtype: int64"
      ]
     },
     "execution_count": 35,
     "metadata": {},
     "output_type": "execute_result"
    }
   ],
   "source": [
    "jointable01 = order_products.merge(products, on='product_id', how=\"left\")\n",
    "groupby03 = jointable01['product_name'].groupby(jointable01['product_name'])\n",
    "\n",
    "groupby03.count().sort_values(ascending = False).head(10)\n",
    "\n"
   ]
  },
  {
   "cell_type": "markdown",
   "metadata": {},
   "source": [
    "Q3. Which product is most likely to be added first in cart?"
   ]
  },
  {
   "cell_type": "code",
   "execution_count": 43,
   "metadata": {},
   "outputs": [
    {
     "data": {
      "text/plain": [
       "product_name\n",
       "Banana                    115521\n",
       "Bag of Organic Bananas     82877\n",
       "Organic Whole Milk         32071\n",
       "Organic Strawberries       28875\n",
       "Organic Hass Avocado       24913\n",
       "Organic Baby Spinach       24412\n",
       "Organic Avocado            23393\n",
       "Spring Water               17552\n",
       "Strawberries               17073\n",
       "Organic Raspberries        14950\n",
       "Name: product_name, dtype: int64"
      ]
     },
     "execution_count": 43,
     "metadata": {},
     "output_type": "execute_result"
    }
   ],
   "source": [
    "filtertable01 = jointable01[jointable01.add_to_cart_order == 1]\n",
    "groupby04 = filtertable01['product_name'].groupby(filtertable01['product_name'])\n",
    "groupby04.count().sort_values(ascending = False).head(10)\n"
   ]
  },
  {
   "cell_type": "markdown",
   "metadata": {},
   "source": [
    "Q4. What is the time at which people usually order products?"
   ]
  },
  {
   "cell_type": "code",
   "execution_count": 45,
   "metadata": {},
   "outputs": [
    {
     "data": {
      "text/plain": [
       "order_hour_of_day\n",
       "10    288418\n",
       "11    284728\n",
       "15    283639\n",
       "14    283042\n",
       "13    277999\n",
       "Name: order_hour_of_day, dtype: int64"
      ]
     },
     "execution_count": 45,
     "metadata": {},
     "output_type": "execute_result"
    }
   ],
   "source": [
    "groupby05 = orders['order_hour_of_day'].groupby(orders['order_hour_of_day'])\n",
    "groupby05.count().sort_values(ascending = False).head(5)"
   ]
  },
  {
   "cell_type": "markdown",
   "metadata": {},
   "source": [
    "<font size=3 color=green style=\"font-family:geneva\">\n",
    "Ticket 02: Business Question Part2 (Week 2)\n",
    "    </font>"
   ]
  },
  {
   "cell_type": "markdown",
   "metadata": {},
   "source": [
    "Q1: Plot the distribution of the number of orders made by each costumer in the whole dataset."
   ]
  },
  {
   "cell_type": "code",
   "execution_count": 10,
   "metadata": {},
   "outputs": [
    {
     "data": {
      "text/plain": [
       "Number_of_Order\n",
       "4      23986\n",
       "5      19590\n",
       "6      16165\n",
       "7      13850\n",
       "8      11700\n",
       "       ...  \n",
       "96        67\n",
       "97        54\n",
       "98        50\n",
       "99        47\n",
       "100     1374\n",
       "Name: Number_of_Order, Length: 97, dtype: int64"
      ]
     },
     "execution_count": 10,
     "metadata": {},
     "output_type": "execute_result"
    }
   ],
   "source": [
    "groupby06 = orders['order_id'].groupby(orders['user_id'])\n",
    "result01 = pd.DataFrame({'Number_of_Order':groupby06.count()})\n",
    "\n",
    "groupby07 = result01['Number_of_Order'].groupby(result01['Number_of_Order'])\n",
    "result02 = groupby07.count()\n",
    "result02"
   ]
  },
  {
   "cell_type": "code",
   "execution_count": 13,
   "metadata": {},
   "outputs": [
    {
     "data": {
      "image/png": "[encoded data removed]",
      "text/plain": [
       "<Figure size 1080x576 with 1 Axes>"
      ]
     },
     "metadata": {},
     "output_type": "display_data"
    }
   ],
   "source": [
    "plt.figure(figsize=(15,8))\n",
    "plt.title('Amount Distribution of Number of Orders')\n",
    "plt.plot(result02)\n",
    "plt.show()"
   ]
  },
  {
   "cell_type": "markdown",
   "metadata": {},
   "source": [
    "Q2. What are customers' favorite departments and Aisles"
   ]
  },
  {
   "cell_type": "code",
   "execution_count": 28,
   "metadata": {},
   "outputs": [],
   "source": [
    "#Join the table first\n",
    "jointable01 = order_products.merge(products, on='product_id', how=\"left\")\n",
    "join_department = jointable01.merge(departments, on='department_id', how=\"left\")\n",
    "join_a_d = join_department.merge(aisles, on='aisle_id', how=\"left\")\n"
   ]
  },
  {
   "cell_type": "code",
   "execution_count": 29,
   "metadata": {},
   "outputs": [
    {
     "data": {
      "text/plain": [
       "department\n",
       "produce            9888378\n",
       "dairy eggs         5631067\n",
       "snacks             3006412\n",
       "beverages          2804175\n",
       "frozen             2336858\n",
       "pantry             1956819\n",
       "bakery             1225181\n",
       "canned goods       1114857\n",
       "deli               1095540\n",
       "dry goods pasta     905340\n",
       "Name: department, dtype: int64"
      ]
     },
     "execution_count": 29,
     "metadata": {},
     "output_type": "execute_result"
    }
   ],
   "source": [
    "# Favorite Department\n",
    "result03 = join_a_d['department'].groupby(join_a_d['department'])\n",
    "result03.count().sort_values(ascending = False).head(10)"
   ]
  },
  {
   "cell_type": "code",
   "execution_count": 30,
   "metadata": {},
   "outputs": [
    {
     "data": {
      "text/plain": [
       "aisle\n",
       "fresh fruits                     3792661\n",
       "fresh vegetables                 3568630\n",
       "packaged vegetables fruits       1843806\n",
       "yogurt                           1507583\n",
       "packaged cheese                  1021462\n",
       "milk                              923659\n",
       "water seltzer sparkling water     878150\n",
       "chips pretzels                    753739\n",
       "soy lactosefree                   664493\n",
       "bread                             608469\n",
       "Name: aisle, dtype: int64"
      ]
     },
     "execution_count": 30,
     "metadata": {},
     "output_type": "execute_result"
    }
   ],
   "source": [
    "# Favorite Aisle\n",
    "result04 = join_a_d['aisle'].groupby(join_a_d['aisle'])\n",
    "result04.count().sort_values(ascending = False).head(10)"
   ]
  },
  {
   "cell_type": "markdown",
   "metadata": {},
   "source": [
    "Q3. What is the best selling Aisles in each department based on number of orders"
   ]
  },
  {
   "cell_type": "code",
   "execution_count": 46,
   "metadata": {},
   "outputs": [
    {
     "data": {
      "text/html": [
       "<div>\n",
       "<style scoped>\n",
       "    .dataframe tbody tr th:only-of-type {\n",
       "        vertical-align: middle;\n",
       "    }\n",
       "\n",
       "    .dataframe tbody tr th {\n",
       "        vertical-align: top;\n",
       "    }\n",
       "\n",
       "    .dataframe thead th {\n",
       "        text-align: right;\n",
       "    }\n",
       "</style>\n",
       "<table border=\"1\" class=\"dataframe\">\n",
       "  <thead>\n",
       "    <tr style=\"text-align: right;\">\n",
       "      <th></th>\n",
       "      <th></th>\n",
       "      <th>Number_of_Orders</th>\n",
       "    </tr>\n",
       "    <tr>\n",
       "      <th>department</th>\n",
       "      <th>aisle</th>\n",
       "      <th></th>\n",
       "    </tr>\n",
       "  </thead>\n",
       "  <tbody>\n",
       "    <tr>\n",
       "      <th rowspan=\"5\" valign=\"top\">alcohol</th>\n",
       "      <th>beers coolers</th>\n",
       "      <td>50496</td>\n",
       "    </tr>\n",
       "    <tr>\n",
       "      <th>red wines</th>\n",
       "      <td>36424</td>\n",
       "    </tr>\n",
       "    <tr>\n",
       "      <th>specialty wines champagnes</th>\n",
       "      <td>11659</td>\n",
       "    </tr>\n",
       "    <tr>\n",
       "      <th>spirits</th>\n",
       "      <td>29069</td>\n",
       "    </tr>\n",
       "    <tr>\n",
       "      <th>white wines</th>\n",
       "      <td>31646</td>\n",
       "    </tr>\n",
       "    <tr>\n",
       "      <th>...</th>\n",
       "      <th>...</th>\n",
       "      <td>...</td>\n",
       "    </tr>\n",
       "    <tr>\n",
       "      <th rowspan=\"5\" valign=\"top\">snacks</th>\n",
       "      <th>ice cream toppings</th>\n",
       "      <td>11706</td>\n",
       "    </tr>\n",
       "    <tr>\n",
       "      <th>mint gum</th>\n",
       "      <td>23626</td>\n",
       "    </tr>\n",
       "    <tr>\n",
       "      <th>nuts seeds dried fruit</th>\n",
       "      <td>319019</td>\n",
       "    </tr>\n",
       "    <tr>\n",
       "      <th>popcorn jerky</th>\n",
       "      <td>170441</td>\n",
       "    </tr>\n",
       "    <tr>\n",
       "      <th>trail mix snack mix</th>\n",
       "      <td>37053</td>\n",
       "    </tr>\n",
       "  </tbody>\n",
       "</table>\n",
       "<p>134 rows × 1 columns</p>\n",
       "</div>"
      ],
      "text/plain": [
       "                                       Number_of_Orders\n",
       "department aisle                                       \n",
       "alcohol    beers coolers                          50496\n",
       "           red wines                              36424\n",
       "           specialty wines champagnes             11659\n",
       "           spirits                                29069\n",
       "           white wines                            31646\n",
       "...                                                 ...\n",
       "snacks     ice cream toppings                     11706\n",
       "           mint gum                               23626\n",
       "           nuts seeds dried fruit                319019\n",
       "           popcorn jerky                         170441\n",
       "           trail mix snack mix                    37053\n",
       "\n",
       "[134 rows x 1 columns]"
      ]
     },
     "execution_count": 46,
     "metadata": {},
     "output_type": "execute_result"
    }
   ],
   "source": [
    "result04 = join_a_d[['department','aisle']].groupby([join_a_d['department'],join_a_d['aisle']])\n",
    "result05 = result04.count()\n",
    "result05 = pd.DataFrame({'Number_of_Orders':result05['department']})\n",
    "result05"
   ]
  },
  {
   "cell_type": "code",
   "execution_count": 47,
   "metadata": {},
   "outputs": [
    {
     "data": {
      "text/html": [
       "<div>\n",
       "<style scoped>\n",
       "    .dataframe tbody tr th:only-of-type {\n",
       "        vertical-align: middle;\n",
       "    }\n",
       "\n",
       "    .dataframe tbody tr th {\n",
       "        vertical-align: top;\n",
       "    }\n",
       "\n",
       "    .dataframe thead th {\n",
       "        text-align: right;\n",
       "    }\n",
       "</style>\n",
       "<table border=\"1\" class=\"dataframe\">\n",
       "  <thead>\n",
       "    <tr style=\"text-align: right;\">\n",
       "      <th></th>\n",
       "      <th>department</th>\n",
       "      <th>aisle</th>\n",
       "      <th>Number_of_Orders</th>\n",
       "    </tr>\n",
       "  </thead>\n",
       "  <tbody>\n",
       "    <tr>\n",
       "      <th>0</th>\n",
       "      <td>alcohol</td>\n",
       "      <td>beers coolers</td>\n",
       "      <td>50496</td>\n",
       "    </tr>\n",
       "    <tr>\n",
       "      <th>1</th>\n",
       "      <td>alcohol</td>\n",
       "      <td>red wines</td>\n",
       "      <td>36424</td>\n",
       "    </tr>\n",
       "    <tr>\n",
       "      <th>2</th>\n",
       "      <td>alcohol</td>\n",
       "      <td>specialty wines champagnes</td>\n",
       "      <td>11659</td>\n",
       "    </tr>\n",
       "    <tr>\n",
       "      <th>3</th>\n",
       "      <td>alcohol</td>\n",
       "      <td>spirits</td>\n",
       "      <td>29069</td>\n",
       "    </tr>\n",
       "    <tr>\n",
       "      <th>4</th>\n",
       "      <td>alcohol</td>\n",
       "      <td>white wines</td>\n",
       "      <td>31646</td>\n",
       "    </tr>\n",
       "    <tr>\n",
       "      <th>...</th>\n",
       "      <td>...</td>\n",
       "      <td>...</td>\n",
       "      <td>...</td>\n",
       "    </tr>\n",
       "    <tr>\n",
       "      <th>129</th>\n",
       "      <td>snacks</td>\n",
       "      <td>ice cream toppings</td>\n",
       "      <td>11706</td>\n",
       "    </tr>\n",
       "    <tr>\n",
       "      <th>130</th>\n",
       "      <td>snacks</td>\n",
       "      <td>mint gum</td>\n",
       "      <td>23626</td>\n",
       "    </tr>\n",
       "    <tr>\n",
       "      <th>131</th>\n",
       "      <td>snacks</td>\n",
       "      <td>nuts seeds dried fruit</td>\n",
       "      <td>319019</td>\n",
       "    </tr>\n",
       "    <tr>\n",
       "      <th>132</th>\n",
       "      <td>snacks</td>\n",
       "      <td>popcorn jerky</td>\n",
       "      <td>170441</td>\n",
       "    </tr>\n",
       "    <tr>\n",
       "      <th>133</th>\n",
       "      <td>snacks</td>\n",
       "      <td>trail mix snack mix</td>\n",
       "      <td>37053</td>\n",
       "    </tr>\n",
       "  </tbody>\n",
       "</table>\n",
       "<p>134 rows × 3 columns</p>\n",
       "</div>"
      ],
      "text/plain": [
       "    department                       aisle  Number_of_Orders\n",
       "0      alcohol               beers coolers             50496\n",
       "1      alcohol                   red wines             36424\n",
       "2      alcohol  specialty wines champagnes             11659\n",
       "3      alcohol                     spirits             29069\n",
       "4      alcohol                 white wines             31646\n",
       "..         ...                         ...               ...\n",
       "129     snacks          ice cream toppings             11706\n",
       "130     snacks                    mint gum             23626\n",
       "131     snacks      nuts seeds dried fruit            319019\n",
       "132     snacks               popcorn jerky            170441\n",
       "133     snacks         trail mix snack mix             37053\n",
       "\n",
       "[134 rows x 3 columns]"
      ]
     },
     "execution_count": 47,
     "metadata": {},
     "output_type": "execute_result"
    }
   ],
   "source": [
    "#index to column\n",
    "result06 = result05.reset_index()\n"
   ]
  },
  {
   "cell_type": "code",
   "execution_count": 51,
   "metadata": {},
   "outputs": [
    {
     "data": {
      "text/html": [
       "<div>\n",
       "<style scoped>\n",
       "    .dataframe tbody tr th:only-of-type {\n",
       "        vertical-align: middle;\n",
       "    }\n",
       "\n",
       "    .dataframe tbody tr th {\n",
       "        vertical-align: top;\n",
       "    }\n",
       "\n",
       "    .dataframe thead th {\n",
       "        text-align: right;\n",
       "    }\n",
       "</style>\n",
       "<table border=\"1\" class=\"dataframe\">\n",
       "  <thead>\n",
       "    <tr style=\"text-align: right;\">\n",
       "      <th></th>\n",
       "      <th>department</th>\n",
       "      <th>aisle</th>\n",
       "      <th>Number_of_Orders</th>\n",
       "    </tr>\n",
       "  </thead>\n",
       "  <tbody>\n",
       "    <tr>\n",
       "      <th>118</th>\n",
       "      <td>produce</td>\n",
       "      <td>fresh fruits</td>\n",
       "      <td>3792661</td>\n",
       "    </tr>\n",
       "    <tr>\n",
       "      <th>42</th>\n",
       "      <td>dairy eggs</td>\n",
       "      <td>yogurt</td>\n",
       "      <td>1507583</td>\n",
       "    </tr>\n",
       "    <tr>\n",
       "      <th>21</th>\n",
       "      <td>beverages</td>\n",
       "      <td>water seltzer sparkling water</td>\n",
       "      <td>878150</td>\n",
       "    </tr>\n",
       "    <tr>\n",
       "      <th>124</th>\n",
       "      <td>snacks</td>\n",
       "      <td>chips pretzels</td>\n",
       "      <td>753739</td>\n",
       "    </tr>\n",
       "    <tr>\n",
       "      <th>10</th>\n",
       "      <td>bakery</td>\n",
       "      <td>bread</td>\n",
       "      <td>608469</td>\n",
       "    </tr>\n",
       "    <tr>\n",
       "      <th>61</th>\n",
       "      <td>frozen</td>\n",
       "      <td>frozen produce</td>\n",
       "      <td>545107</td>\n",
       "    </tr>\n",
       "    <tr>\n",
       "      <th>44</th>\n",
       "      <td>deli</td>\n",
       "      <td>lunch meat</td>\n",
       "      <td>412087</td>\n",
       "    </tr>\n",
       "    <tr>\n",
       "      <th>7</th>\n",
       "      <td>babies</td>\n",
       "      <td>baby food formula</td>\n",
       "      <td>395654</td>\n",
       "    </tr>\n",
       "    <tr>\n",
       "      <th>23</th>\n",
       "      <td>breakfast</td>\n",
       "      <td>cereal</td>\n",
       "      <td>393787</td>\n",
       "    </tr>\n",
       "    <tr>\n",
       "      <th>32</th>\n",
       "      <td>canned goods</td>\n",
       "      <td>soup broth bouillon</td>\n",
       "      <td>361573</td>\n",
       "    </tr>\n",
       "    <tr>\n",
       "      <th>87</th>\n",
       "      <td>pantry</td>\n",
       "      <td>baking ingredients</td>\n",
       "      <td>339780</td>\n",
       "    </tr>\n",
       "    <tr>\n",
       "      <th>78</th>\n",
       "      <td>meat seafood</td>\n",
       "      <td>hot dogs bacon sausage</td>\n",
       "      <td>318468</td>\n",
       "    </tr>\n",
       "    <tr>\n",
       "      <th>48</th>\n",
       "      <td>dry goods pasta</td>\n",
       "      <td>dry pasta</td>\n",
       "      <td>277935</td>\n",
       "    </tr>\n",
       "    <tr>\n",
       "      <th>71</th>\n",
       "      <td>household</td>\n",
       "      <td>paper goods</td>\n",
       "      <td>255690</td>\n",
       "    </tr>\n",
       "    <tr>\n",
       "      <th>74</th>\n",
       "      <td>international</td>\n",
       "      <td>asian foods</td>\n",
       "      <td>173614</td>\n",
       "    </tr>\n",
       "    <tr>\n",
       "      <th>85</th>\n",
       "      <td>missing</td>\n",
       "      <td>missing</td>\n",
       "      <td>77396</td>\n",
       "    </tr>\n",
       "    <tr>\n",
       "      <th>114</th>\n",
       "      <td>personal care</td>\n",
       "      <td>soap</td>\n",
       "      <td>66832</td>\n",
       "    </tr>\n",
       "    <tr>\n",
       "      <th>116</th>\n",
       "      <td>pets</td>\n",
       "      <td>cat food care</td>\n",
       "      <td>66306</td>\n",
       "    </tr>\n",
       "    <tr>\n",
       "      <th>0</th>\n",
       "      <td>alcohol</td>\n",
       "      <td>beers coolers</td>\n",
       "      <td>50496</td>\n",
       "    </tr>\n",
       "    <tr>\n",
       "      <th>86</th>\n",
       "      <td>other</td>\n",
       "      <td>other</td>\n",
       "      <td>38086</td>\n",
       "    </tr>\n",
       "    <tr>\n",
       "      <th>26</th>\n",
       "      <td>bulk</td>\n",
       "      <td>bulk dried fruits vegetables</td>\n",
       "      <td>18093</td>\n",
       "    </tr>\n",
       "  </tbody>\n",
       "</table>\n",
       "</div>"
      ],
      "text/plain": [
       "          department                          aisle  Number_of_Orders\n",
       "118          produce                   fresh fruits           3792661\n",
       "42        dairy eggs                         yogurt           1507583\n",
       "21         beverages  water seltzer sparkling water            878150\n",
       "124           snacks                 chips pretzels            753739\n",
       "10            bakery                          bread            608469\n",
       "61            frozen                 frozen produce            545107\n",
       "44              deli                     lunch meat            412087\n",
       "7             babies              baby food formula            395654\n",
       "23         breakfast                         cereal            393787\n",
       "32      canned goods            soup broth bouillon            361573\n",
       "87            pantry             baking ingredients            339780\n",
       "78      meat seafood         hot dogs bacon sausage            318468\n",
       "48   dry goods pasta                      dry pasta            277935\n",
       "71         household                    paper goods            255690\n",
       "74     international                    asian foods            173614\n",
       "85           missing                        missing             77396\n",
       "114    personal care                           soap             66832\n",
       "116             pets                  cat food care             66306\n",
       "0            alcohol                  beers coolers             50496\n",
       "86             other                          other             38086\n",
       "26              bulk   bulk dried fruits vegetables             18093"
      ]
     },
     "execution_count": 51,
     "metadata": {},
     "output_type": "execute_result"
    }
   ],
   "source": [
    "# best selling Aisles in each department\n",
    "result06.sort_values('Number_of_Orders', ascending = False).groupby('department').head(1)"
   ]
  },
  {
   "cell_type": "markdown",
   "metadata": {},
   "source": [
    "Q4. Draw a pie chart for the number of orders in each departments"
   ]
  },
  {
   "cell_type": "code",
   "execution_count": 64,
   "metadata": {},
   "outputs": [
    {
     "data": {
      "text/html": [
       "<div>\n",
       "<style scoped>\n",
       "    .dataframe tbody tr th:only-of-type {\n",
       "        vertical-align: middle;\n",
       "    }\n",
       "\n",
       "    .dataframe tbody tr th {\n",
       "        vertical-align: top;\n",
       "    }\n",
       "\n",
       "    .dataframe thead th {\n",
       "        text-align: right;\n",
       "    }\n",
       "</style>\n",
       "<table border=\"1\" class=\"dataframe\">\n",
       "  <thead>\n",
       "    <tr style=\"text-align: right;\">\n",
       "      <th></th>\n",
       "      <th>department</th>\n",
       "      <th>Number_of_Order</th>\n",
       "    </tr>\n",
       "  </thead>\n",
       "  <tbody>\n",
       "    <tr>\n",
       "      <th>0</th>\n",
       "      <td>alcohol</td>\n",
       "      <td>87794</td>\n",
       "    </tr>\n",
       "    <tr>\n",
       "      <th>1</th>\n",
       "      <td>babies</td>\n",
       "      <td>184074</td>\n",
       "    </tr>\n",
       "    <tr>\n",
       "      <th>2</th>\n",
       "      <td>bakery</td>\n",
       "      <td>917980</td>\n",
       "    </tr>\n",
       "    <tr>\n",
       "      <th>3</th>\n",
       "      <td>beverages</td>\n",
       "      <td>1518833</td>\n",
       "    </tr>\n",
       "    <tr>\n",
       "      <th>4</th>\n",
       "      <td>breakfast</td>\n",
       "      <td>547067</td>\n",
       "    </tr>\n",
       "    <tr>\n",
       "      <th>5</th>\n",
       "      <td>bulk</td>\n",
       "      <td>35125</td>\n",
       "    </tr>\n",
       "    <tr>\n",
       "      <th>6</th>\n",
       "      <td>canned goods</td>\n",
       "      <td>710721</td>\n",
       "    </tr>\n",
       "    <tr>\n",
       "      <th>7</th>\n",
       "      <td>dairy eggs</td>\n",
       "      <td>2264738</td>\n",
       "    </tr>\n",
       "    <tr>\n",
       "      <th>8</th>\n",
       "      <td>deli</td>\n",
       "      <td>802581</td>\n",
       "    </tr>\n",
       "    <tr>\n",
       "      <th>9</th>\n",
       "      <td>dry goods pasta</td>\n",
       "      <td>623738</td>\n",
       "    </tr>\n",
       "    <tr>\n",
       "      <th>10</th>\n",
       "      <td>frozen</td>\n",
       "      <td>1232089</td>\n",
       "    </tr>\n",
       "    <tr>\n",
       "      <th>11</th>\n",
       "      <td>household</td>\n",
       "      <td>492427</td>\n",
       "    </tr>\n",
       "    <tr>\n",
       "      <th>12</th>\n",
       "      <td>international</td>\n",
       "      <td>231253</td>\n",
       "    </tr>\n",
       "    <tr>\n",
       "      <th>13</th>\n",
       "      <td>meat seafood</td>\n",
       "      <td>599017</td>\n",
       "    </tr>\n",
       "    <tr>\n",
       "      <th>14</th>\n",
       "      <td>missing</td>\n",
       "      <td>66410</td>\n",
       "    </tr>\n",
       "    <tr>\n",
       "      <th>15</th>\n",
       "      <td>other</td>\n",
       "      <td>36781</td>\n",
       "    </tr>\n",
       "    <tr>\n",
       "      <th>16</th>\n",
       "      <td>pantry</td>\n",
       "      <td>1165491</td>\n",
       "    </tr>\n",
       "    <tr>\n",
       "      <th>17</th>\n",
       "      <td>personal care</td>\n",
       "      <td>333463</td>\n",
       "    </tr>\n",
       "    <tr>\n",
       "      <th>18</th>\n",
       "      <td>pets</td>\n",
       "      <td>62011</td>\n",
       "    </tr>\n",
       "    <tr>\n",
       "      <th>19</th>\n",
       "      <td>produce</td>\n",
       "      <td>2506247</td>\n",
       "    </tr>\n",
       "    <tr>\n",
       "      <th>20</th>\n",
       "      <td>snacks</td>\n",
       "      <td>1448749</td>\n",
       "    </tr>\n",
       "  </tbody>\n",
       "</table>\n",
       "</div>"
      ],
      "text/plain": [
       "         department  Number_of_Order\n",
       "0           alcohol            87794\n",
       "1            babies           184074\n",
       "2            bakery           917980\n",
       "3         beverages          1518833\n",
       "4         breakfast           547067\n",
       "5              bulk            35125\n",
       "6      canned goods           710721\n",
       "7        dairy eggs          2264738\n",
       "8              deli           802581\n",
       "9   dry goods pasta           623738\n",
       "10           frozen          1232089\n",
       "11        household           492427\n",
       "12    international           231253\n",
       "13     meat seafood           599017\n",
       "14          missing            66410\n",
       "15            other            36781\n",
       "16           pantry          1165491\n",
       "17    personal care           333463\n",
       "18             pets            62011\n",
       "19          produce          2506247\n",
       "20           snacks          1448749"
      ]
     },
     "execution_count": 64,
     "metadata": {},
     "output_type": "execute_result"
    }
   ],
   "source": [
    "result04 = join_a_d['order_id'].groupby(join_a_d['department'])\n",
    "result09 = result04.nunique()\n",
    "result09 = result09.reset_index()\n",
    "result09.columns = ['department','Number_of_Order']\n",
    "result09"
   ]
  },
  {
   "cell_type": "code",
   "execution_count": 74,
   "metadata": {},
   "outputs": [
    {
     "ename": "SyntaxError",
     "evalue": "expression cannot contain assignment, perhaps you meant \"==\"? (<ipython-input-74-ed73e4ef549b>, line 6)",
     "output_type": "error",
     "traceback": [
      "\u001b[1;36m  File \u001b[1;32m\"<ipython-input-74-ed73e4ef549b>\"\u001b[1;36m, line \u001b[1;32m6\u001b[0m\n\u001b[1;33m    plt.legend(title=\"List of departments\", title.fontsize=20, fontsize=20)\u001b[0m\n\u001b[1;37m                                            ^\u001b[0m\n\u001b[1;31mSyntaxError\u001b[0m\u001b[1;31m:\u001b[0m expression cannot contain assignment, perhaps you meant \"==\"?\n"
     ]
    }
   ],
   "source": [
    "# pie chart\n",
    "\n",
    "plt.figure(figsize=(25,25))\n",
    "plt.title('Pie Chart of Departments Orders', fontsize=40)\n",
    "plt.pie(result09['Number_of_Order'], labels = result09['department'])\n",
    "plt.legend(title=\"List of departments\", title.fontsize=20, fontsize=20)\n",
    "plt.show()"
   ]
  },
  {
   "cell_type": "code",
   "execution_count": null,
   "metadata": {},
   "outputs": [],
   "source": []
  }
 ],
 "metadata": {
  "kernelspec": {
   "display_name": "Python 3",
   "language": "python",
   "name": "python3"
  },
  "language_info": {
   "codemirror_mode": {
    "name": "ipython",
    "version": 3
   },
   "file_extension": ".py",
   "mimetype": "text/x-python",
   "name": "python",
   "nbconvert_exporter": "python",
   "pygments_lexer": "ipython3",
   "version": "3.8.3"
  }
 },
 "nbformat": 4,
 "nbformat_minor": 4
}
