{
 "cells": [
  {
   "cell_type": "markdown",
   "metadata": {},
   "source": [
    "<font color=Green size=4>Business Question Solving </font>\n",
    "\n",
    "<font size=2> This notebook is using to answer the business question about the customer data table. </font>"
   ]
  },
  {
   "cell_type": "code",
   "execution_count": 1,
   "metadata": {},
   "outputs": [],
   "source": [
    "import pandas as pd\n",
    "import matplotlib.pyplot as plt\n",
    "import seaborn as sns\n",
    "import numpy as np\n",
    "import pandas_profiling\n",
    "\n",
    "aisle_path = 'E:\\Sebnewrepo\\Data/aisles.csv'\n",
    "aisles = pd.read_csv(aisle_path)\n",
    "\n",
    "departments_path = 'E:\\Sebnewrepo\\Data/departments.csv'\n",
    "departments = pd.read_csv(departments_path)\n",
    "\n",
    "order_products_path = 'E:\\Sebnewrepo\\Data/order_products.csv'\n",
    "order_products = pd.read_csv(order_products_path)\n",
    "\n",
    "orders_path = 'E:\\Sebnewrepo\\Data/orders.csv'\n",
    "orders = pd.read_csv(orders_path)\n",
    "\n",
    "products_path = 'E:\\Sebnewrepo\\Data/products.csv'\n",
    "products = pd.read_csv(products_path)"
   ]
  },
  {
   "cell_type": "markdown",
   "metadata": {},
   "source": [
    "<font size=3 color=green style=\"font-family:geneva\">\n",
    "Ticket 01 (Week 1)\n",
    "    </font>"
   ]
  },
  {
   "cell_type": "markdown",
   "metadata": {},
   "source": [
    "Q1. How many products people usually order?"
   ]
  },
  {
   "cell_type": "code",
   "execution_count": 30,
   "metadata": {
    "scrolled": true
   },
   "outputs": [
    {
     "data": {
      "text/plain": [
       "Amount\n",
       "5     237225\n",
       "6     236383\n",
       "4     230299\n",
       "7     228547\n",
       "3     215060\n",
       "8     211357\n",
       "2     194361\n",
       "9     191564\n",
       "10    172103\n",
       "1     163593\n",
       "Name: Amount, dtype: int64"
      ]
     },
     "execution_count": 30,
     "metadata": {},
     "output_type": "execute_result"
    }
   ],
   "source": [
    "groupby01 = order_products['add_to_cart_order'].groupby(order_products['order_id'])\n",
    "amount01 = pd.DataFrame({ 'Amount': groupby01.max()})\n",
    "\n",
    "groupby02 = amount01['Amount'].groupby(amount01['Amount'])\n",
    "groupby02.count().sort_values(ascending = False).head(10)\n"
   ]
  },
  {
   "cell_type": "markdown",
   "metadata": {},
   "source": [
    "Q2. Which products are ordered the most?"
   ]
  },
  {
   "cell_type": "code",
   "execution_count": 35,
   "metadata": {},
   "outputs": [
    {
     "data": {
      "text/plain": [
       "product_name\n",
       "Banana                    491291\n",
       "Bag of Organic Bananas    394930\n",
       "Organic Strawberries      275577\n",
       "Organic Baby Spinach      251705\n",
       "Organic Hass Avocado      220877\n",
       "Organic Avocado           184224\n",
       "Large Lemon               160792\n",
       "Strawberries              149445\n",
       "Limes                     146660\n",
       "Organic Whole Milk        142813\n",
       "Name: product_name, dtype: int64"
      ]
     },
     "execution_count": 35,
     "metadata": {},
     "output_type": "execute_result"
    }
   ],
   "source": [
    "jointable01 = order_products.merge(products, on='product_id', how=\"left\")\n",
    "groupby03 = jointable01['product_name'].groupby(jointable01['product_name'])\n",
    "\n",
    "groupby03.count().sort_values(ascending = False).head(10)\n",
    "\n"
   ]
  },
  {
   "cell_type": "markdown",
   "metadata": {},
   "source": [
    "Q3. Which product is most likely to be added first in cart?"
   ]
  },
  {
   "cell_type": "code",
   "execution_count": 43,
   "metadata": {},
   "outputs": [
    {
     "data": {
      "text/plain": [
       "product_name\n",
       "Banana                    115521\n",
       "Bag of Organic Bananas     82877\n",
       "Organic Whole Milk         32071\n",
       "Organic Strawberries       28875\n",
       "Organic Hass Avocado       24913\n",
       "Organic Baby Spinach       24412\n",
       "Organic Avocado            23393\n",
       "Spring Water               17552\n",
       "Strawberries               17073\n",
       "Organic Raspberries        14950\n",
       "Name: product_name, dtype: int64"
      ]
     },
     "execution_count": 43,
     "metadata": {},
     "output_type": "execute_result"
    }
   ],
   "source": [
    "filtertable01 = jointable01[jointable01.add_to_cart_order == 1]\n",
    "groupby04 = filtertable01['product_name'].groupby(filtertable01['product_name'])\n",
    "groupby04.count().sort_values(ascending = False).head(10)\n"
   ]
  },
  {
   "cell_type": "markdown",
   "metadata": {},
   "source": [
    "Q4. What is the time at which people usually order products?"
   ]
  },
  {
   "cell_type": "code",
   "execution_count": 45,
   "metadata": {},
   "outputs": [
    {
     "data": {
      "text/plain": [
       "order_hour_of_day\n",
       "10    288418\n",
       "11    284728\n",
       "15    283639\n",
       "14    283042\n",
       "13    277999\n",
       "Name: order_hour_of_day, dtype: int64"
      ]
     },
     "execution_count": 45,
     "metadata": {},
     "output_type": "execute_result"
    }
   ],
   "source": [
    "groupby05 = orders['order_hour_of_day'].groupby(orders['order_hour_of_day'])\n",
    "groupby05.count().sort_values(ascending = False).head(5)"
   ]
  },
  {
   "cell_type": "markdown",
   "metadata": {},
   "source": [
    "<font size=3 color=green style=\"font-family:geneva\">\n",
    "Ticket 02 (Week 1)\n",
    "    </font>"
   ]
  },
  {
   "cell_type": "markdown",
   "metadata": {},
   "source": [
    "Q1: Plot the distribution of the number of orders made by each costumer in the whole dataset."
   ]
  },
  {
   "cell_type": "code",
   "execution_count": null,
   "metadata": {},
   "outputs": [],
   "source": []
  }
 ],
 "metadata": {
  "kernelspec": {
   "display_name": "Python 3",
   "language": "python",
   "name": "python3"
  },
  "language_info": {
   "codemirror_mode": {
    "name": "ipython",
    "version": 3
   },
   "file_extension": ".py",
   "mimetype": "text/x-python",
   "name": "python",
   "nbconvert_exporter": "python",
   "pygments_lexer": "ipython3",
   "version": "3.8.3"
  }
 },
 "nbformat": 4,
 "nbformat_minor": 4
}
