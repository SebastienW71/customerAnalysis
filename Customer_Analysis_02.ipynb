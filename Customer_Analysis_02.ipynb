{
 "cells": [
  {
   "cell_type": "markdown",
   "metadata": {},
   "source": [
    "<font color=Green size=3>Business Question Solving </font>\n",
    "\n",
    "<font size=2> This notebook is using to answer the business question about the customer data table. </font>"
   ]
  },
  {
   "cell_type": "code",
   "execution_count": null,
   "metadata": {},
   "outputs": [],
   "source": [
    "import pandas as pd\n",
    "import matplotlib.pyplot as plt\n",
    "import seaborn as sns\n",
    "import numpy as np\n",
    "import pandas_profiling\n",
    "\n",
    "aisle_path = 'E:\\Sebnewrepo\\Data/aisles.csv'\n",
    "aisles = pd.read_csv(aisle_path)\n",
    "\n",
    "departments_path = 'E:\\Sebnewrepo\\Data/departments.csv'\n",
    "departments = pd.read_csv(departments_path)\n",
    "\n",
    "order_products_path = 'E:\\Sebnewrepo\\Data/order_products.csv'\n",
    "order_products = pd.read_csv(order_products_path)\n",
    "\n",
    "orders_path = 'E:\\Sebnewrepo\\Data/orders.csv'\n",
    "orders = pd.read_csv(orders_path)\n",
    "\n",
    "products_path = 'E:\\Sebnewrepo\\Data/products.csv'\n",
    "products = pd.read_csv(products_path)"
   ]
  },
  {
   "cell_type": "markdown",
   "metadata": {},
   "source": [
    "Q1. How many products people usually order?"
   ]
  },
  {
   "cell_type": "code",
   "execution_count": null,
   "metadata": {},
   "outputs": [],
   "source": []
  }
 ],
 "metadata": {
  "kernelspec": {
   "display_name": "Python 3",
   "language": "python",
   "name": "python3"
  },
  "language_info": {
   "codemirror_mode": {
    "name": "ipython",
    "version": 3
   },
   "file_extension": ".py",
   "mimetype": "text/x-python",
   "name": "python",
   "nbconvert_exporter": "python",
   "pygments_lexer": "ipython3",
   "version": "3.8.3"
  }
 },
 "nbformat": 4,
 "nbformat_minor": 4
}
