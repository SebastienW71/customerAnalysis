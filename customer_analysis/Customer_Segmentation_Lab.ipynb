{
 "cells": [
  {
   "cell_type": "markdown",
   "metadata": {},
   "source": [
    "# Customer Segmentation"
   ]
  },
  {
   "cell_type": "markdown",
   "metadata": {},
   "source": [
    "This workbook is to segement the customers with various info into several clusters"
   ]
  },
  {
   "cell_type": "code",
   "execution_count": 1,
   "metadata": {},
   "outputs": [],
   "source": [
    "import pandas as pd\n",
    "import matplotlib.pyplot as plt\n",
    "import seaborn as sns\n",
    "import numpy as np\n",
    "import sklearn as sk\n",
    "from sklearn.cluster import KMeans\n",
    "from sklearn.preprocessing import StandardScaler\n",
    "from sklearn import decomposition\n",
    "from sklearn import metrics\n",
    "\n",
    "aisle_path = 'E:\\Sebnewrepo\\Data/aisles.csv'\n",
    "aisles = pd.read_csv(aisle_path)\n",
    "\n",
    "departments_path = 'E:\\Sebnewrepo\\Data/departments.csv'\n",
    "departments = pd.read_csv(departments_path)\n",
    "\n",
    "order_products_path = 'E:\\Sebnewrepo\\Data/order_products.csv'\n",
    "order_products = pd.read_csv(order_products_path)\n",
    "\n",
    "orders_path = 'E:\\Sebnewrepo\\Data/orders.csv'\n",
    "orders = pd.read_csv(orders_path)\n",
    "\n",
    "products_path = 'E:\\Sebnewrepo\\Data/products.csv'\n",
    "products = pd.read_csv(products_path)"
   ]
  },
  {
   "cell_type": "markdown",
   "metadata": {},
   "source": [
    "### 1. Users and Aisles"
   ]
  },
  {
   "cell_type": "markdown",
   "metadata": {},
   "source": [
    "#### 1.1 Prepare the table"
   ]
  },
  {
   "cell_type": "code",
   "execution_count": 2,
   "metadata": {},
   "outputs": [
    {
     "data": {
      "text/html": [
       "<div>\n",
       "<style scoped>\n",
       "    .dataframe tbody tr th:only-of-type {\n",
       "        vertical-align: middle;\n",
       "    }\n",
       "\n",
       "    .dataframe tbody tr th {\n",
       "        vertical-align: top;\n",
       "    }\n",
       "\n",
       "    .dataframe thead th {\n",
       "        text-align: right;\n",
       "    }\n",
       "</style>\n",
       "<table border=\"1\" class=\"dataframe\">\n",
       "  <thead>\n",
       "    <tr style=\"text-align: right;\">\n",
       "      <th></th>\n",
       "      <th>order_id</th>\n",
       "      <th>product_id</th>\n",
       "      <th>add_to_cart_order</th>\n",
       "      <th>user_id</th>\n",
       "      <th>order_number</th>\n",
       "      <th>order_dow</th>\n",
       "      <th>order_hour_of_day</th>\n",
       "      <th>days_since_prior_order</th>\n",
       "      <th>product_name</th>\n",
       "      <th>aisle_id</th>\n",
       "      <th>department_id</th>\n",
       "    </tr>\n",
       "  </thead>\n",
       "  <tbody>\n",
       "    <tr>\n",
       "      <th>0</th>\n",
       "      <td>2</td>\n",
       "      <td>33120</td>\n",
       "      <td>1</td>\n",
       "      <td>202279</td>\n",
       "      <td>3</td>\n",
       "      <td>5</td>\n",
       "      <td>9</td>\n",
       "      <td>8.0</td>\n",
       "      <td>Organic Egg Whites</td>\n",
       "      <td>86</td>\n",
       "      <td>16</td>\n",
       "    </tr>\n",
       "    <tr>\n",
       "      <th>1</th>\n",
       "      <td>2</td>\n",
       "      <td>28985</td>\n",
       "      <td>2</td>\n",
       "      <td>202279</td>\n",
       "      <td>3</td>\n",
       "      <td>5</td>\n",
       "      <td>9</td>\n",
       "      <td>8.0</td>\n",
       "      <td>Michigan Organic Kale</td>\n",
       "      <td>83</td>\n",
       "      <td>4</td>\n",
       "    </tr>\n",
       "    <tr>\n",
       "      <th>2</th>\n",
       "      <td>2</td>\n",
       "      <td>9327</td>\n",
       "      <td>3</td>\n",
       "      <td>202279</td>\n",
       "      <td>3</td>\n",
       "      <td>5</td>\n",
       "      <td>9</td>\n",
       "      <td>8.0</td>\n",
       "      <td>Garlic Powder</td>\n",
       "      <td>104</td>\n",
       "      <td>13</td>\n",
       "    </tr>\n",
       "    <tr>\n",
       "      <th>3</th>\n",
       "      <td>2</td>\n",
       "      <td>45918</td>\n",
       "      <td>4</td>\n",
       "      <td>202279</td>\n",
       "      <td>3</td>\n",
       "      <td>5</td>\n",
       "      <td>9</td>\n",
       "      <td>8.0</td>\n",
       "      <td>Coconut Butter</td>\n",
       "      <td>19</td>\n",
       "      <td>13</td>\n",
       "    </tr>\n",
       "    <tr>\n",
       "      <th>4</th>\n",
       "      <td>2</td>\n",
       "      <td>30035</td>\n",
       "      <td>5</td>\n",
       "      <td>202279</td>\n",
       "      <td>3</td>\n",
       "      <td>5</td>\n",
       "      <td>9</td>\n",
       "      <td>8.0</td>\n",
       "      <td>Natural Sweetener</td>\n",
       "      <td>17</td>\n",
       "      <td>13</td>\n",
       "    </tr>\n",
       "  </tbody>\n",
       "</table>\n",
       "</div>"
      ],
      "text/plain": [
       "   order_id  product_id  add_to_cart_order  user_id  order_number  order_dow  \\\n",
       "0         2       33120                  1   202279             3          5   \n",
       "1         2       28985                  2   202279             3          5   \n",
       "2         2        9327                  3   202279             3          5   \n",
       "3         2       45918                  4   202279             3          5   \n",
       "4         2       30035                  5   202279             3          5   \n",
       "\n",
       "   order_hour_of_day  days_since_prior_order           product_name  aisle_id  \\\n",
       "0                  9                     8.0     Organic Egg Whites        86   \n",
       "1                  9                     8.0  Michigan Organic Kale        83   \n",
       "2                  9                     8.0          Garlic Powder       104   \n",
       "3                  9                     8.0         Coconut Butter        19   \n",
       "4                  9                     8.0      Natural Sweetener        17   \n",
       "\n",
       "   department_id  \n",
       "0             16  \n",
       "1              4  \n",
       "2             13  \n",
       "3             13  \n",
       "4             13  "
      ]
     },
     "execution_count": 2,
     "metadata": {},
     "output_type": "execute_result"
    }
   ],
   "source": [
    "joint = order_products.merge(orders, on = 'order_id', how = 'left')\n",
    "joint = joint.merge(products, on = 'product_id', how = 'left')\n",
    "joint.head()"
   ]
  },
  {
   "cell_type": "code",
   "execution_count": 3,
   "metadata": {},
   "outputs": [
    {
     "data": {
      "text/html": [
       "<div>\n",
       "<style scoped>\n",
       "    .dataframe tbody tr th:only-of-type {\n",
       "        vertical-align: middle;\n",
       "    }\n",
       "\n",
       "    .dataframe tbody tr th {\n",
       "        vertical-align: top;\n",
       "    }\n",
       "\n",
       "    .dataframe thead th {\n",
       "        text-align: right;\n",
       "    }\n",
       "</style>\n",
       "<table border=\"1\" class=\"dataframe\">\n",
       "  <thead>\n",
       "    <tr style=\"text-align: right;\">\n",
       "      <th></th>\n",
       "      <th>user_id</th>\n",
       "      <th>aisle_id</th>\n",
       "      <th>aisle</th>\n",
       "    </tr>\n",
       "  </thead>\n",
       "  <tbody>\n",
       "    <tr>\n",
       "      <th>0</th>\n",
       "      <td>202279</td>\n",
       "      <td>86</td>\n",
       "      <td>eggs</td>\n",
       "    </tr>\n",
       "    <tr>\n",
       "      <th>1</th>\n",
       "      <td>202279</td>\n",
       "      <td>83</td>\n",
       "      <td>fresh vegetables</td>\n",
       "    </tr>\n",
       "    <tr>\n",
       "      <th>2</th>\n",
       "      <td>202279</td>\n",
       "      <td>104</td>\n",
       "      <td>spices seasonings</td>\n",
       "    </tr>\n",
       "    <tr>\n",
       "      <th>3</th>\n",
       "      <td>202279</td>\n",
       "      <td>19</td>\n",
       "      <td>oils vinegars</td>\n",
       "    </tr>\n",
       "    <tr>\n",
       "      <th>4</th>\n",
       "      <td>202279</td>\n",
       "      <td>17</td>\n",
       "      <td>baking ingredients</td>\n",
       "    </tr>\n",
       "  </tbody>\n",
       "</table>\n",
       "</div>"
      ],
      "text/plain": [
       "   user_id  aisle_id               aisle\n",
       "0   202279        86                eggs\n",
       "1   202279        83    fresh vegetables\n",
       "2   202279       104   spices seasonings\n",
       "3   202279        19       oils vinegars\n",
       "4   202279        17  baking ingredients"
      ]
     },
     "execution_count": 3,
     "metadata": {},
     "output_type": "execute_result"
    }
   ],
   "source": [
    "df_joint = pd.DataFrame({\n",
    "    'user_id' : joint['user_id'],\n",
    "    'aisle_id' : joint['aisle_id']\n",
    "})\n",
    "df_joint01 = df_joint.merge(aisles, on = 'aisle_id', how = 'left')\n",
    "df_joint01.head()"
   ]
  },
  {
   "cell_type": "code",
   "execution_count": 4,
   "metadata": {
    "scrolled": true
   },
   "outputs": [
    {
     "data": {
      "text/html": [
       "<div>\n",
       "<style scoped>\n",
       "    .dataframe tbody tr th:only-of-type {\n",
       "        vertical-align: middle;\n",
       "    }\n",
       "\n",
       "    .dataframe tbody tr th {\n",
       "        vertical-align: top;\n",
       "    }\n",
       "\n",
       "    .dataframe thead tr th {\n",
       "        text-align: left;\n",
       "    }\n",
       "\n",
       "    .dataframe thead tr:last-of-type th {\n",
       "        text-align: right;\n",
       "    }\n",
       "</style>\n",
       "<table border=\"1\" class=\"dataframe\">\n",
       "  <thead>\n",
       "    <tr>\n",
       "      <th></th>\n",
       "      <th colspan=\"21\" halign=\"left\">aisle_id</th>\n",
       "    </tr>\n",
       "    <tr>\n",
       "      <th>aisle</th>\n",
       "      <th>air fresheners candles</th>\n",
       "      <th>asian foods</th>\n",
       "      <th>baby accessories</th>\n",
       "      <th>baby bath body care</th>\n",
       "      <th>baby food formula</th>\n",
       "      <th>bakery desserts</th>\n",
       "      <th>baking ingredients</th>\n",
       "      <th>baking supplies decor</th>\n",
       "      <th>beauty</th>\n",
       "      <th>beers coolers</th>\n",
       "      <th>...</th>\n",
       "      <th>spreads</th>\n",
       "      <th>tea</th>\n",
       "      <th>tofu meat alternatives</th>\n",
       "      <th>tortillas flat bread</th>\n",
       "      <th>trail mix snack mix</th>\n",
       "      <th>trash bags liners</th>\n",
       "      <th>vitamins supplements</th>\n",
       "      <th>water seltzer sparkling water</th>\n",
       "      <th>white wines</th>\n",
       "      <th>yogurt</th>\n",
       "    </tr>\n",
       "    <tr>\n",
       "      <th>user_id</th>\n",
       "      <th></th>\n",
       "      <th></th>\n",
       "      <th></th>\n",
       "      <th></th>\n",
       "      <th></th>\n",
       "      <th></th>\n",
       "      <th></th>\n",
       "      <th></th>\n",
       "      <th></th>\n",
       "      <th></th>\n",
       "      <th></th>\n",
       "      <th></th>\n",
       "      <th></th>\n",
       "      <th></th>\n",
       "      <th></th>\n",
       "      <th></th>\n",
       "      <th></th>\n",
       "      <th></th>\n",
       "      <th></th>\n",
       "      <th></th>\n",
       "      <th></th>\n",
       "    </tr>\n",
       "  </thead>\n",
       "  <tbody>\n",
       "    <tr>\n",
       "      <th>1</th>\n",
       "      <td>0.0</td>\n",
       "      <td>0.0</td>\n",
       "      <td>0.0</td>\n",
       "      <td>0.0</td>\n",
       "      <td>0.0</td>\n",
       "      <td>0.0</td>\n",
       "      <td>0.0</td>\n",
       "      <td>0.0</td>\n",
       "      <td>0.0</td>\n",
       "      <td>0.0</td>\n",
       "      <td>...</td>\n",
       "      <td>1.0</td>\n",
       "      <td>0.0</td>\n",
       "      <td>0.0</td>\n",
       "      <td>0.0</td>\n",
       "      <td>0.0</td>\n",
       "      <td>0.0</td>\n",
       "      <td>0.0</td>\n",
       "      <td>0.0</td>\n",
       "      <td>0.0</td>\n",
       "      <td>2.0</td>\n",
       "    </tr>\n",
       "    <tr>\n",
       "      <th>2</th>\n",
       "      <td>0.0</td>\n",
       "      <td>3.0</td>\n",
       "      <td>0.0</td>\n",
       "      <td>0.0</td>\n",
       "      <td>0.0</td>\n",
       "      <td>0.0</td>\n",
       "      <td>2.0</td>\n",
       "      <td>0.0</td>\n",
       "      <td>0.0</td>\n",
       "      <td>0.0</td>\n",
       "      <td>...</td>\n",
       "      <td>3.0</td>\n",
       "      <td>1.0</td>\n",
       "      <td>1.0</td>\n",
       "      <td>0.0</td>\n",
       "      <td>0.0</td>\n",
       "      <td>0.0</td>\n",
       "      <td>0.0</td>\n",
       "      <td>2.0</td>\n",
       "      <td>0.0</td>\n",
       "      <td>42.0</td>\n",
       "    </tr>\n",
       "    <tr>\n",
       "      <th>3</th>\n",
       "      <td>0.0</td>\n",
       "      <td>0.0</td>\n",
       "      <td>0.0</td>\n",
       "      <td>0.0</td>\n",
       "      <td>0.0</td>\n",
       "      <td>0.0</td>\n",
       "      <td>0.0</td>\n",
       "      <td>0.0</td>\n",
       "      <td>0.0</td>\n",
       "      <td>0.0</td>\n",
       "      <td>...</td>\n",
       "      <td>4.0</td>\n",
       "      <td>1.0</td>\n",
       "      <td>0.0</td>\n",
       "      <td>0.0</td>\n",
       "      <td>0.0</td>\n",
       "      <td>0.0</td>\n",
       "      <td>0.0</td>\n",
       "      <td>2.0</td>\n",
       "      <td>0.0</td>\n",
       "      <td>0.0</td>\n",
       "    </tr>\n",
       "    <tr>\n",
       "      <th>4</th>\n",
       "      <td>0.0</td>\n",
       "      <td>0.0</td>\n",
       "      <td>0.0</td>\n",
       "      <td>0.0</td>\n",
       "      <td>0.0</td>\n",
       "      <td>0.0</td>\n",
       "      <td>0.0</td>\n",
       "      <td>0.0</td>\n",
       "      <td>0.0</td>\n",
       "      <td>0.0</td>\n",
       "      <td>...</td>\n",
       "      <td>0.0</td>\n",
       "      <td>0.0</td>\n",
       "      <td>0.0</td>\n",
       "      <td>1.0</td>\n",
       "      <td>0.0</td>\n",
       "      <td>0.0</td>\n",
       "      <td>0.0</td>\n",
       "      <td>1.0</td>\n",
       "      <td>0.0</td>\n",
       "      <td>0.0</td>\n",
       "    </tr>\n",
       "    <tr>\n",
       "      <th>5</th>\n",
       "      <td>1.0</td>\n",
       "      <td>4.0</td>\n",
       "      <td>0.0</td>\n",
       "      <td>0.0</td>\n",
       "      <td>0.0</td>\n",
       "      <td>0.0</td>\n",
       "      <td>0.0</td>\n",
       "      <td>0.0</td>\n",
       "      <td>0.0</td>\n",
       "      <td>0.0</td>\n",
       "      <td>...</td>\n",
       "      <td>0.0</td>\n",
       "      <td>0.0</td>\n",
       "      <td>0.0</td>\n",
       "      <td>0.0</td>\n",
       "      <td>0.0</td>\n",
       "      <td>0.0</td>\n",
       "      <td>0.0</td>\n",
       "      <td>0.0</td>\n",
       "      <td>0.0</td>\n",
       "      <td>3.0</td>\n",
       "    </tr>\n",
       "  </tbody>\n",
       "</table>\n",
       "<p>5 rows × 134 columns</p>\n",
       "</div>"
      ],
      "text/plain": [
       "                      aisle_id                               \\\n",
       "aisle   air fresheners candles asian foods baby accessories   \n",
       "user_id                                                       \n",
       "1                          0.0         0.0              0.0   \n",
       "2                          0.0         3.0              0.0   \n",
       "3                          0.0         0.0              0.0   \n",
       "4                          0.0         0.0              0.0   \n",
       "5                          1.0         4.0              0.0   \n",
       "\n",
       "                                                               \\\n",
       "aisle   baby bath body care baby food formula bakery desserts   \n",
       "user_id                                                         \n",
       "1                       0.0               0.0             0.0   \n",
       "2                       0.0               0.0             0.0   \n",
       "3                       0.0               0.0             0.0   \n",
       "4                       0.0               0.0             0.0   \n",
       "5                       0.0               0.0             0.0   \n",
       "\n",
       "                                                                       ...  \\\n",
       "aisle   baking ingredients baking supplies decor beauty beers coolers  ...   \n",
       "user_id                                                                ...   \n",
       "1                      0.0                   0.0    0.0           0.0  ...   \n",
       "2                      2.0                   0.0    0.0           0.0  ...   \n",
       "3                      0.0                   0.0    0.0           0.0  ...   \n",
       "4                      0.0                   0.0    0.0           0.0  ...   \n",
       "5                      0.0                   0.0    0.0           0.0  ...   \n",
       "\n",
       "                                                                  \\\n",
       "aisle   spreads  tea tofu meat alternatives tortillas flat bread   \n",
       "user_id                                                            \n",
       "1           1.0  0.0                    0.0                  0.0   \n",
       "2           3.0  1.0                    1.0                  0.0   \n",
       "3           4.0  1.0                    0.0                  0.0   \n",
       "4           0.0  0.0                    0.0                  1.0   \n",
       "5           0.0  0.0                    0.0                  0.0   \n",
       "\n",
       "                                                                    \\\n",
       "aisle   trail mix snack mix trash bags liners vitamins supplements   \n",
       "user_id                                                              \n",
       "1                       0.0               0.0                  0.0   \n",
       "2                       0.0               0.0                  0.0   \n",
       "3                       0.0               0.0                  0.0   \n",
       "4                       0.0               0.0                  0.0   \n",
       "5                       0.0               0.0                  0.0   \n",
       "\n",
       "                                                          \n",
       "aisle   water seltzer sparkling water white wines yogurt  \n",
       "user_id                                                   \n",
       "1                                 0.0         0.0    2.0  \n",
       "2                                 2.0         0.0   42.0  \n",
       "3                                 2.0         0.0    0.0  \n",
       "4                                 1.0         0.0    0.0  \n",
       "5                                 0.0         0.0    3.0  \n",
       "\n",
       "[5 rows x 134 columns]"
      ]
     },
     "execution_count": 4,
     "metadata": {},
     "output_type": "execute_result"
    }
   ],
   "source": [
    "#pivot the table:\n",
    "#df_joint02 = df_joint01.drop(['aisle_id'], axis = 1)\n",
    "new_df = pd.pivot_table(df_joint01, \n",
    "                   index = ['user_id'],\n",
    "                   columns = ['aisle'],\n",
    "                   aggfunc = 'count')\n",
    "new_df = new_df.fillna(0)\n",
    "new_df.head()"
   ]
  },
  {
   "cell_type": "code",
   "execution_count": 5,
   "metadata": {},
   "outputs": [
    {
     "data": {
      "text/html": [
       "<div>\n",
       "<style scoped>\n",
       "    .dataframe tbody tr th:only-of-type {\n",
       "        vertical-align: middle;\n",
       "    }\n",
       "\n",
       "    .dataframe tbody tr th {\n",
       "        vertical-align: top;\n",
       "    }\n",
       "\n",
       "    .dataframe thead th {\n",
       "        text-align: right;\n",
       "    }\n",
       "</style>\n",
       "<table border=\"1\" class=\"dataframe\">\n",
       "  <thead>\n",
       "    <tr style=\"text-align: right;\">\n",
       "      <th>aisle</th>\n",
       "      <th>air fresheners candles</th>\n",
       "      <th>asian foods</th>\n",
       "      <th>baby accessories</th>\n",
       "      <th>baby bath body care</th>\n",
       "      <th>baby food formula</th>\n",
       "      <th>bakery desserts</th>\n",
       "      <th>baking ingredients</th>\n",
       "      <th>baking supplies decor</th>\n",
       "      <th>beauty</th>\n",
       "      <th>beers coolers</th>\n",
       "      <th>...</th>\n",
       "      <th>spreads</th>\n",
       "      <th>tea</th>\n",
       "      <th>tofu meat alternatives</th>\n",
       "      <th>tortillas flat bread</th>\n",
       "      <th>trail mix snack mix</th>\n",
       "      <th>trash bags liners</th>\n",
       "      <th>vitamins supplements</th>\n",
       "      <th>water seltzer sparkling water</th>\n",
       "      <th>white wines</th>\n",
       "      <th>yogurt</th>\n",
       "    </tr>\n",
       "    <tr>\n",
       "      <th>user_id</th>\n",
       "      <th></th>\n",
       "      <th></th>\n",
       "      <th></th>\n",
       "      <th></th>\n",
       "      <th></th>\n",
       "      <th></th>\n",
       "      <th></th>\n",
       "      <th></th>\n",
       "      <th></th>\n",
       "      <th></th>\n",
       "      <th></th>\n",
       "      <th></th>\n",
       "      <th></th>\n",
       "      <th></th>\n",
       "      <th></th>\n",
       "      <th></th>\n",
       "      <th></th>\n",
       "      <th></th>\n",
       "      <th></th>\n",
       "      <th></th>\n",
       "      <th></th>\n",
       "    </tr>\n",
       "  </thead>\n",
       "  <tbody>\n",
       "    <tr>\n",
       "      <th>1</th>\n",
       "      <td>0.0</td>\n",
       "      <td>0.0</td>\n",
       "      <td>0.0</td>\n",
       "      <td>0.0</td>\n",
       "      <td>0.0</td>\n",
       "      <td>0.0</td>\n",
       "      <td>0.0</td>\n",
       "      <td>0.0</td>\n",
       "      <td>0.0</td>\n",
       "      <td>0.0</td>\n",
       "      <td>...</td>\n",
       "      <td>1.0</td>\n",
       "      <td>0.0</td>\n",
       "      <td>0.0</td>\n",
       "      <td>0.0</td>\n",
       "      <td>0.0</td>\n",
       "      <td>0.0</td>\n",
       "      <td>0.0</td>\n",
       "      <td>0.0</td>\n",
       "      <td>0.0</td>\n",
       "      <td>2.0</td>\n",
       "    </tr>\n",
       "    <tr>\n",
       "      <th>2</th>\n",
       "      <td>0.0</td>\n",
       "      <td>3.0</td>\n",
       "      <td>0.0</td>\n",
       "      <td>0.0</td>\n",
       "      <td>0.0</td>\n",
       "      <td>0.0</td>\n",
       "      <td>2.0</td>\n",
       "      <td>0.0</td>\n",
       "      <td>0.0</td>\n",
       "      <td>0.0</td>\n",
       "      <td>...</td>\n",
       "      <td>3.0</td>\n",
       "      <td>1.0</td>\n",
       "      <td>1.0</td>\n",
       "      <td>0.0</td>\n",
       "      <td>0.0</td>\n",
       "      <td>0.0</td>\n",
       "      <td>0.0</td>\n",
       "      <td>2.0</td>\n",
       "      <td>0.0</td>\n",
       "      <td>42.0</td>\n",
       "    </tr>\n",
       "    <tr>\n",
       "      <th>3</th>\n",
       "      <td>0.0</td>\n",
       "      <td>0.0</td>\n",
       "      <td>0.0</td>\n",
       "      <td>0.0</td>\n",
       "      <td>0.0</td>\n",
       "      <td>0.0</td>\n",
       "      <td>0.0</td>\n",
       "      <td>0.0</td>\n",
       "      <td>0.0</td>\n",
       "      <td>0.0</td>\n",
       "      <td>...</td>\n",
       "      <td>4.0</td>\n",
       "      <td>1.0</td>\n",
       "      <td>0.0</td>\n",
       "      <td>0.0</td>\n",
       "      <td>0.0</td>\n",
       "      <td>0.0</td>\n",
       "      <td>0.0</td>\n",
       "      <td>2.0</td>\n",
       "      <td>0.0</td>\n",
       "      <td>0.0</td>\n",
       "    </tr>\n",
       "    <tr>\n",
       "      <th>4</th>\n",
       "      <td>0.0</td>\n",
       "      <td>0.0</td>\n",
       "      <td>0.0</td>\n",
       "      <td>0.0</td>\n",
       "      <td>0.0</td>\n",
       "      <td>0.0</td>\n",
       "      <td>0.0</td>\n",
       "      <td>0.0</td>\n",
       "      <td>0.0</td>\n",
       "      <td>0.0</td>\n",
       "      <td>...</td>\n",
       "      <td>0.0</td>\n",
       "      <td>0.0</td>\n",
       "      <td>0.0</td>\n",
       "      <td>1.0</td>\n",
       "      <td>0.0</td>\n",
       "      <td>0.0</td>\n",
       "      <td>0.0</td>\n",
       "      <td>1.0</td>\n",
       "      <td>0.0</td>\n",
       "      <td>0.0</td>\n",
       "    </tr>\n",
       "    <tr>\n",
       "      <th>5</th>\n",
       "      <td>1.0</td>\n",
       "      <td>4.0</td>\n",
       "      <td>0.0</td>\n",
       "      <td>0.0</td>\n",
       "      <td>0.0</td>\n",
       "      <td>0.0</td>\n",
       "      <td>0.0</td>\n",
       "      <td>0.0</td>\n",
       "      <td>0.0</td>\n",
       "      <td>0.0</td>\n",
       "      <td>...</td>\n",
       "      <td>0.0</td>\n",
       "      <td>0.0</td>\n",
       "      <td>0.0</td>\n",
       "      <td>0.0</td>\n",
       "      <td>0.0</td>\n",
       "      <td>0.0</td>\n",
       "      <td>0.0</td>\n",
       "      <td>0.0</td>\n",
       "      <td>0.0</td>\n",
       "      <td>3.0</td>\n",
       "    </tr>\n",
       "  </tbody>\n",
       "</table>\n",
       "<p>5 rows × 134 columns</p>\n",
       "</div>"
      ],
      "text/plain": [
       "aisle    air fresheners candles  asian foods  baby accessories  \\\n",
       "user_id                                                          \n",
       "1                           0.0          0.0               0.0   \n",
       "2                           0.0          3.0               0.0   \n",
       "3                           0.0          0.0               0.0   \n",
       "4                           0.0          0.0               0.0   \n",
       "5                           1.0          4.0               0.0   \n",
       "\n",
       "aisle    baby bath body care  baby food formula  bakery desserts  \\\n",
       "user_id                                                            \n",
       "1                        0.0                0.0              0.0   \n",
       "2                        0.0                0.0              0.0   \n",
       "3                        0.0                0.0              0.0   \n",
       "4                        0.0                0.0              0.0   \n",
       "5                        0.0                0.0              0.0   \n",
       "\n",
       "aisle    baking ingredients  baking supplies decor  beauty  beers coolers  \\\n",
       "user_id                                                                     \n",
       "1                       0.0                    0.0     0.0            0.0   \n",
       "2                       2.0                    0.0     0.0            0.0   \n",
       "3                       0.0                    0.0     0.0            0.0   \n",
       "4                       0.0                    0.0     0.0            0.0   \n",
       "5                       0.0                    0.0     0.0            0.0   \n",
       "\n",
       "aisle    ...  spreads  tea  tofu meat alternatives  tortillas flat bread  \\\n",
       "user_id  ...                                                               \n",
       "1        ...      1.0  0.0                     0.0                   0.0   \n",
       "2        ...      3.0  1.0                     1.0                   0.0   \n",
       "3        ...      4.0  1.0                     0.0                   0.0   \n",
       "4        ...      0.0  0.0                     0.0                   1.0   \n",
       "5        ...      0.0  0.0                     0.0                   0.0   \n",
       "\n",
       "aisle    trail mix snack mix  trash bags liners  vitamins supplements  \\\n",
       "user_id                                                                 \n",
       "1                        0.0                0.0                   0.0   \n",
       "2                        0.0                0.0                   0.0   \n",
       "3                        0.0                0.0                   0.0   \n",
       "4                        0.0                0.0                   0.0   \n",
       "5                        0.0                0.0                   0.0   \n",
       "\n",
       "aisle    water seltzer sparkling water  white wines  yogurt  \n",
       "user_id                                                      \n",
       "1                                  0.0          0.0     2.0  \n",
       "2                                  2.0          0.0    42.0  \n",
       "3                                  2.0          0.0     0.0  \n",
       "4                                  1.0          0.0     0.0  \n",
       "5                                  0.0          0.0     3.0  \n",
       "\n",
       "[5 rows x 134 columns]"
      ]
     },
     "execution_count": 5,
     "metadata": {},
     "output_type": "execute_result"
    }
   ],
   "source": [
    "# drop the multi-level index\n",
    "new_df.columns = new_df.columns.droplevel()\n",
    "new_df = pd.DataFrame(\n",
    "    new_df.values,\n",
    "    index = new_df.index,\n",
    "    columns = new_df.columns\n",
    ")\n",
    "new_df.head()"
   ]
  },
  {
   "cell_type": "markdown",
   "metadata": {},
   "source": [
    "#### 1.2 Customer Segmentation with PCA & Clustering "
   ]
  },
  {
   "cell_type": "code",
   "execution_count": 6,
   "metadata": {},
   "outputs": [],
   "source": [
    "def pca_process(n, df):\n",
    "    pca = decomposition.PCA(n_components = n)\n",
    "    pca_data = pca.fit_transform(df)\n",
    "\n",
    "    ## get PCs, show Explained variance per principal component\n",
    "    pca_df = pd.DataFrame(pca_data)\n",
    "    print('Explained variance per principal component:',pca.explained_variance_ratio_)\n",
    "    return pca_df\n",
    "\n",
    "def standard(df):\n",
    "    ss = StandardScaler()\n",
    "    df1 = pd.DataFrame(ss.fit_transform(df))\n",
    "    return df1\n",
    "\n",
    "def kmeans(k, df):\n",
    "    kmeans = KMeans(n_clusters = k)\n",
    "    kmeans.fit(df)\n",
    "    y_kmeans = kmeans.fit_predict(df)\n",
    "    centers = kmeans.cluster_centers_\n",
    "    labels = kmeans.labels_\n",
    "    sse = kmeans.inertia_\n",
    "    return (y_kmeans, centers, labels, sse)\n",
    "\n",
    "# CH Score Check\n",
    "def CH_Score(df):\n",
    "    i = []\n",
    "    CH_score = []\n",
    "    max_k = len(pca_data1.index)\n",
    "    for k in range(2,10):\n",
    "        y_kmeans, centers, labels, sse= kmeans(k,df)\n",
    "        m = metrics.calinski_harabasz_score(df, labels)\n",
    "        i.append(k)\n",
    "        CH_score.append(m)\n",
    "\n",
    "    plt.figure()  \n",
    "    plt.plot(i,CH_score)  \n",
    "    plt.xlabel(\"kmeans-k\")  \n",
    "    plt.ylabel(\"calinski_harabaz_score\")  \n",
    "    plt.title(\"Performance of K\") \n",
    "    return\n",
    "# SSE\n",
    "def sse(df):\n",
    "    k_range = range(1,15)\n",
    "    sse = []\n",
    "    for k in k_range:\n",
    "        kmeans = KMeans(n_clusters=k)\n",
    "        kmeans.fit(new_df)\n",
    "        sse.append(kmeans.inertia_)\n",
    "    plt.plot(k_range, sse)"
   ]
  },
  {
   "cell_type": "markdown",
   "metadata": {},
   "source": [
    "1.2.1 Try PCA to reduct the demension and evaluate the performance"
   ]
  },
  {
   "cell_type": "code",
   "execution_count": 7,
   "metadata": {},
   "outputs": [
    {
     "name": "stdout",
     "output_type": "stream",
     "text": [
      "Explained variance per principal component: [0.4786378  0.09640584]\n"
     ]
    },
    {
     "data": {
      "text/html": [
       "<div>\n",
       "<style scoped>\n",
       "    .dataframe tbody tr th:only-of-type {\n",
       "        vertical-align: middle;\n",
       "    }\n",
       "\n",
       "    .dataframe tbody tr th {\n",
       "        vertical-align: top;\n",
       "    }\n",
       "\n",
       "    .dataframe thead th {\n",
       "        text-align: right;\n",
       "    }\n",
       "</style>\n",
       "<table border=\"1\" class=\"dataframe\">\n",
       "  <thead>\n",
       "    <tr style=\"text-align: right;\">\n",
       "      <th></th>\n",
       "      <th>0</th>\n",
       "      <th>1</th>\n",
       "    </tr>\n",
       "  </thead>\n",
       "  <tbody>\n",
       "    <tr>\n",
       "      <th>0</th>\n",
       "      <td>-24.811636</td>\n",
       "      <td>3.449192</td>\n",
       "    </tr>\n",
       "    <tr>\n",
       "      <th>1</th>\n",
       "      <td>10.331587</td>\n",
       "      <td>39.529398</td>\n",
       "    </tr>\n",
       "    <tr>\n",
       "      <th>2</th>\n",
       "      <td>-9.247469</td>\n",
       "      <td>2.382710</td>\n",
       "    </tr>\n",
       "    <tr>\n",
       "      <th>3</th>\n",
       "      <td>-29.242883</td>\n",
       "      <td>-0.880035</td>\n",
       "    </tr>\n",
       "    <tr>\n",
       "      <th>4</th>\n",
       "      <td>-19.186003</td>\n",
       "      <td>-3.037863</td>\n",
       "    </tr>\n",
       "    <tr>\n",
       "      <th>...</th>\n",
       "      <td>...</td>\n",
       "      <td>...</td>\n",
       "    </tr>\n",
       "    <tr>\n",
       "      <th>206204</th>\n",
       "      <td>-20.426644</td>\n",
       "      <td>5.176024</td>\n",
       "    </tr>\n",
       "    <tr>\n",
       "      <th>206205</th>\n",
       "      <td>-6.163290</td>\n",
       "      <td>-0.200355</td>\n",
       "    </tr>\n",
       "    <tr>\n",
       "      <th>206206</th>\n",
       "      <td>7.312526</td>\n",
       "      <td>7.660421</td>\n",
       "    </tr>\n",
       "    <tr>\n",
       "      <th>206207</th>\n",
       "      <td>82.725416</td>\n",
       "      <td>20.649787</td>\n",
       "    </tr>\n",
       "    <tr>\n",
       "      <th>206208</th>\n",
       "      <td>-14.326324</td>\n",
       "      <td>7.184041</td>\n",
       "    </tr>\n",
       "  </tbody>\n",
       "</table>\n",
       "<p>206209 rows × 2 columns</p>\n",
       "</div>"
      ],
      "text/plain": [
       "                0          1\n",
       "0      -24.811636   3.449192\n",
       "1       10.331587  39.529398\n",
       "2       -9.247469   2.382710\n",
       "3      -29.242883  -0.880035\n",
       "4      -19.186003  -3.037863\n",
       "...           ...        ...\n",
       "206204 -20.426644   5.176024\n",
       "206205  -6.163290  -0.200355\n",
       "206206   7.312526   7.660421\n",
       "206207  82.725416  20.649787\n",
       "206208 -14.326324   7.184041\n",
       "\n",
       "[206209 rows x 2 columns]"
      ]
     },
     "execution_count": 7,
     "metadata": {},
     "output_type": "execute_result"
    }
   ],
   "source": [
    "##Try n = 2\n",
    "pca_data1 = pca_process(2, new_df)\n",
    "pca_data1"
   ]
  },
  {
   "cell_type": "code",
   "execution_count": 8,
   "metadata": {},
   "outputs": [
    {
     "name": "stdout",
     "output_type": "stream",
     "text": [
      "Explained variance per principal component: [0.4786378  0.09640584 0.05210072]\n"
     ]
    },
    {
     "data": {
      "text/html": [
       "<div>\n",
       "<style scoped>\n",
       "    .dataframe tbody tr th:only-of-type {\n",
       "        vertical-align: middle;\n",
       "    }\n",
       "\n",
       "    .dataframe tbody tr th {\n",
       "        vertical-align: top;\n",
       "    }\n",
       "\n",
       "    .dataframe thead th {\n",
       "        text-align: right;\n",
       "    }\n",
       "</style>\n",
       "<table border=\"1\" class=\"dataframe\">\n",
       "  <thead>\n",
       "    <tr style=\"text-align: right;\">\n",
       "      <th></th>\n",
       "      <th>0</th>\n",
       "      <th>1</th>\n",
       "      <th>2</th>\n",
       "    </tr>\n",
       "  </thead>\n",
       "  <tbody>\n",
       "    <tr>\n",
       "      <th>0</th>\n",
       "      <td>-24.811636</td>\n",
       "      <td>3.449193</td>\n",
       "      <td>-1.611665</td>\n",
       "    </tr>\n",
       "    <tr>\n",
       "      <th>1</th>\n",
       "      <td>10.331587</td>\n",
       "      <td>39.529396</td>\n",
       "      <td>4.610839</td>\n",
       "    </tr>\n",
       "    <tr>\n",
       "      <th>2</th>\n",
       "      <td>-9.247469</td>\n",
       "      <td>2.382710</td>\n",
       "      <td>-11.076953</td>\n",
       "    </tr>\n",
       "    <tr>\n",
       "      <th>3</th>\n",
       "      <td>-29.242883</td>\n",
       "      <td>-0.880035</td>\n",
       "      <td>-1.984266</td>\n",
       "    </tr>\n",
       "    <tr>\n",
       "      <th>4</th>\n",
       "      <td>-19.186003</td>\n",
       "      <td>-3.037864</td>\n",
       "      <td>0.186785</td>\n",
       "    </tr>\n",
       "    <tr>\n",
       "      <th>...</th>\n",
       "      <td>...</td>\n",
       "      <td>...</td>\n",
       "      <td>...</td>\n",
       "    </tr>\n",
       "    <tr>\n",
       "      <th>206204</th>\n",
       "      <td>-20.426644</td>\n",
       "      <td>5.176025</td>\n",
       "      <td>0.814297</td>\n",
       "    </tr>\n",
       "    <tr>\n",
       "      <th>206205</th>\n",
       "      <td>-6.163290</td>\n",
       "      <td>-0.200361</td>\n",
       "      <td>5.266045</td>\n",
       "    </tr>\n",
       "    <tr>\n",
       "      <th>206206</th>\n",
       "      <td>7.312526</td>\n",
       "      <td>7.660423</td>\n",
       "      <td>7.951784</td>\n",
       "    </tr>\n",
       "    <tr>\n",
       "      <th>206207</th>\n",
       "      <td>82.725416</td>\n",
       "      <td>20.649792</td>\n",
       "      <td>8.150931</td>\n",
       "    </tr>\n",
       "    <tr>\n",
       "      <th>206208</th>\n",
       "      <td>-14.326324</td>\n",
       "      <td>7.184042</td>\n",
       "      <td>-5.743532</td>\n",
       "    </tr>\n",
       "  </tbody>\n",
       "</table>\n",
       "<p>206209 rows × 3 columns</p>\n",
       "</div>"
      ],
      "text/plain": [
       "                0          1          2\n",
       "0      -24.811636   3.449193  -1.611665\n",
       "1       10.331587  39.529396   4.610839\n",
       "2       -9.247469   2.382710 -11.076953\n",
       "3      -29.242883  -0.880035  -1.984266\n",
       "4      -19.186003  -3.037864   0.186785\n",
       "...           ...        ...        ...\n",
       "206204 -20.426644   5.176025   0.814297\n",
       "206205  -6.163290  -0.200361   5.266045\n",
       "206206   7.312526   7.660423   7.951784\n",
       "206207  82.725416  20.649792   8.150931\n",
       "206208 -14.326324   7.184042  -5.743532\n",
       "\n",
       "[206209 rows x 3 columns]"
      ]
     },
     "execution_count": 8,
     "metadata": {},
     "output_type": "execute_result"
    }
   ],
   "source": [
    "##Try n = 3\n",
    "pca_data2 = pca_process(3, new_df)\n",
    "pca_data2"
   ]
  },
  {
   "cell_type": "markdown",
   "metadata": {},
   "source": [
    "Try Kmeans to cluster the data"
   ]
  },
  {
   "cell_type": "code",
   "execution_count": 9,
   "metadata": {},
   "outputs": [
    {
     "data": {
      "image/png": "[encoded data removed]",
      "text/plain": [
       "<Figure size 432x288 with 1 Axes>"
      ]
     },
     "metadata": {
      "needs_background": "light"
     },
     "output_type": "display_data"
    }
   ],
   "source": [
    "# Use 2 demension data First\n",
    "CH_Score(pca_data1)"
   ]
  },
  {
   "cell_type": "code",
   "execution_count": 10,
   "metadata": {
    "scrolled": false
   },
   "outputs": [
    {
     "data": {
      "image/png": "[encoded data removed]",
      "text/plain": [
       "<Figure size 432x288 with 1 Axes>"
      ]
     },
     "metadata": {
      "needs_background": "light"
     },
     "output_type": "display_data"
    }
   ],
   "source": [
    "# Use 3 demension data\n",
    "CH_Score(pca_data2)"
   ]
  },
  {
   "cell_type": "markdown",
   "metadata": {},
   "source": [
    "The CH score says 2 cluster is the best. Technically it does not make much sense.\n",
    "Apply Standardization after PCA"
   ]
  },
  {
   "cell_type": "code",
   "execution_count": 11,
   "metadata": {},
   "outputs": [
    {
     "data": {
      "image/png": "[encoded data removed]",
      "text/plain": [
       "<Figure size 432x288 with 1 Axes>"
      ]
     },
     "metadata": {
      "needs_background": "light"
     },
     "output_type": "display_data"
    }
   ],
   "source": [
    "# Use 2 demension data\n",
    "pca_data1 = standard(pca_data1)\n",
    "CH_Score(pca_data1)"
   ]
  },
  {
   "cell_type": "code",
   "execution_count": 12,
   "metadata": {},
   "outputs": [
    {
     "data": {
      "image/png": "[encoded data removed]",
      "text/plain": [
       "<Figure size 432x288 with 1 Axes>"
      ]
     },
     "metadata": {
      "needs_background": "light"
     },
     "output_type": "display_data"
    }
   ],
   "source": [
    "# Use 3 demension data\n",
    "pca_data2 = standard(pca_data2)\n",
    "CH_Score(pca_data2)"
   ]
  },
  {
   "cell_type": "markdown",
   "metadata": {},
   "source": [
    "According to the figures, when utilizing StandardScaler, the CH Score makes more sense compared with the previous attempt. if demension = 2, the 3 clusters is the best solution. If demension = 3, the 4 cluster is the best solution.\n",
    "\n",
    "Plot these two result"
   ]
  },
  {
   "cell_type": "code",
   "execution_count": 13,
   "metadata": {},
   "outputs": [
    {
     "data": {
      "text/plain": [
       "<matplotlib.collections.PathCollection at 0x20a85f29700>"
      ]
     },
     "execution_count": 13,
     "metadata": {},
     "output_type": "execute_result"
    },
    {
     "data": {
      "image/png": "[encoded data removed]",
      "text/plain": [
       "<Figure size 432x288 with 1 Axes>"
      ]
     },
     "metadata": {
      "needs_background": "light"
     },
     "output_type": "display_data"
    }
   ],
   "source": [
    "# n = 2, k = 3\n",
    "y_kmeans, centers, label, sse = kmeans(3, pca_data1)\n",
    "\n",
    "plt.scatter(pca_data1[0],pca_data1[1], c = y_kmeans, cmap = 'viridis' )\n",
    "plt.scatter(centers[:,0], centers[:, 1], c='black', s=80, marker='x')"
   ]
  },
  {
   "cell_type": "code",
   "execution_count": 14,
   "metadata": {},
   "outputs": [
    {
     "data": {
      "text/plain": [
       "<mpl_toolkits.mplot3d.art3d.Path3DCollection at 0x20a86111be0>"
      ]
     },
     "execution_count": 14,
     "metadata": {},
     "output_type": "execute_result"
    },
    {
     "data": {
      "image/png": "[encoded data removed]",
      "text/plain": [
       "<Figure size 432x288 with 1 Axes>"
      ]
     },
     "metadata": {
      "needs_background": "light"
     },
     "output_type": "display_data"
    }
   ],
   "source": [
    "# n = 3, k = 4\n",
    "fig = plt.figure()\n",
    "ax = plt.axes(projection='3d')\n",
    "ax.scatter(pca_data2[0], pca_data2[1], pca_data2[2], c = y_kmeans, cmap = 'viridis')"
   ]
  },
  {
   "cell_type": "markdown",
   "metadata": {},
   "source": [
    "#### 1.3 Customer Segmentation Analysis"
   ]
  },
  {
   "cell_type": "markdown",
   "metadata": {},
   "source": [
    "Use the PCA Data to analyze first\n",
    "\n",
    "1.3.1 Result from 2-demension transformed table"
   ]
  },
  {
   "cell_type": "code",
   "execution_count": 15,
   "metadata": {},
   "outputs": [],
   "source": [
    "# Reconstruct the result\n",
    "y_kmeans, centers, label, sse = kmeans(3, pca_data1)"
   ]
  },
  {
   "cell_type": "code",
   "execution_count": 16,
   "metadata": {},
   "outputs": [
    {
     "data": {
      "text/html": [
       "<div>\n",
       "<style scoped>\n",
       "    .dataframe tbody tr th:only-of-type {\n",
       "        vertical-align: middle;\n",
       "    }\n",
       "\n",
       "    .dataframe tbody tr th {\n",
       "        vertical-align: top;\n",
       "    }\n",
       "\n",
       "    .dataframe thead th {\n",
       "        text-align: right;\n",
       "    }\n",
       "</style>\n",
       "<table border=\"1\" class=\"dataframe\">\n",
       "  <thead>\n",
       "    <tr style=\"text-align: right;\">\n",
       "      <th>aisle</th>\n",
       "      <th>air fresheners candles</th>\n",
       "      <th>asian foods</th>\n",
       "      <th>baby accessories</th>\n",
       "      <th>baby bath body care</th>\n",
       "      <th>baby food formula</th>\n",
       "      <th>bakery desserts</th>\n",
       "      <th>baking ingredients</th>\n",
       "      <th>baking supplies decor</th>\n",
       "      <th>beauty</th>\n",
       "      <th>beers coolers</th>\n",
       "      <th>...</th>\n",
       "      <th>tea</th>\n",
       "      <th>tofu meat alternatives</th>\n",
       "      <th>tortillas flat bread</th>\n",
       "      <th>trail mix snack mix</th>\n",
       "      <th>trash bags liners</th>\n",
       "      <th>vitamins supplements</th>\n",
       "      <th>water seltzer sparkling water</th>\n",
       "      <th>white wines</th>\n",
       "      <th>yogurt</th>\n",
       "      <th>label</th>\n",
       "    </tr>\n",
       "    <tr>\n",
       "      <th>user_id</th>\n",
       "      <th></th>\n",
       "      <th></th>\n",
       "      <th></th>\n",
       "      <th></th>\n",
       "      <th></th>\n",
       "      <th></th>\n",
       "      <th></th>\n",
       "      <th></th>\n",
       "      <th></th>\n",
       "      <th></th>\n",
       "      <th></th>\n",
       "      <th></th>\n",
       "      <th></th>\n",
       "      <th></th>\n",
       "      <th></th>\n",
       "      <th></th>\n",
       "      <th></th>\n",
       "      <th></th>\n",
       "      <th></th>\n",
       "      <th></th>\n",
       "      <th></th>\n",
       "    </tr>\n",
       "  </thead>\n",
       "  <tbody>\n",
       "    <tr>\n",
       "      <th>1</th>\n",
       "      <td>0.0</td>\n",
       "      <td>0.0</td>\n",
       "      <td>0.0</td>\n",
       "      <td>0.0</td>\n",
       "      <td>0.0</td>\n",
       "      <td>0.0</td>\n",
       "      <td>0.0</td>\n",
       "      <td>0.0</td>\n",
       "      <td>0.0</td>\n",
       "      <td>0.0</td>\n",
       "      <td>...</td>\n",
       "      <td>0.0</td>\n",
       "      <td>0.0</td>\n",
       "      <td>0.0</td>\n",
       "      <td>0.0</td>\n",
       "      <td>0.0</td>\n",
       "      <td>0.0</td>\n",
       "      <td>0.0</td>\n",
       "      <td>0.0</td>\n",
       "      <td>2.0</td>\n",
       "      <td>0</td>\n",
       "    </tr>\n",
       "    <tr>\n",
       "      <th>2</th>\n",
       "      <td>0.0</td>\n",
       "      <td>3.0</td>\n",
       "      <td>0.0</td>\n",
       "      <td>0.0</td>\n",
       "      <td>0.0</td>\n",
       "      <td>0.0</td>\n",
       "      <td>2.0</td>\n",
       "      <td>0.0</td>\n",
       "      <td>0.0</td>\n",
       "      <td>0.0</td>\n",
       "      <td>...</td>\n",
       "      <td>1.0</td>\n",
       "      <td>1.0</td>\n",
       "      <td>0.0</td>\n",
       "      <td>0.0</td>\n",
       "      <td>0.0</td>\n",
       "      <td>0.0</td>\n",
       "      <td>2.0</td>\n",
       "      <td>0.0</td>\n",
       "      <td>42.0</td>\n",
       "      <td>2</td>\n",
       "    </tr>\n",
       "    <tr>\n",
       "      <th>3</th>\n",
       "      <td>0.0</td>\n",
       "      <td>0.0</td>\n",
       "      <td>0.0</td>\n",
       "      <td>0.0</td>\n",
       "      <td>0.0</td>\n",
       "      <td>0.0</td>\n",
       "      <td>0.0</td>\n",
       "      <td>0.0</td>\n",
       "      <td>0.0</td>\n",
       "      <td>0.0</td>\n",
       "      <td>...</td>\n",
       "      <td>1.0</td>\n",
       "      <td>0.0</td>\n",
       "      <td>0.0</td>\n",
       "      <td>0.0</td>\n",
       "      <td>0.0</td>\n",
       "      <td>0.0</td>\n",
       "      <td>2.0</td>\n",
       "      <td>0.0</td>\n",
       "      <td>0.0</td>\n",
       "      <td>0</td>\n",
       "    </tr>\n",
       "    <tr>\n",
       "      <th>4</th>\n",
       "      <td>0.0</td>\n",
       "      <td>0.0</td>\n",
       "      <td>0.0</td>\n",
       "      <td>0.0</td>\n",
       "      <td>0.0</td>\n",
       "      <td>0.0</td>\n",
       "      <td>0.0</td>\n",
       "      <td>0.0</td>\n",
       "      <td>0.0</td>\n",
       "      <td>0.0</td>\n",
       "      <td>...</td>\n",
       "      <td>0.0</td>\n",
       "      <td>0.0</td>\n",
       "      <td>1.0</td>\n",
       "      <td>0.0</td>\n",
       "      <td>0.0</td>\n",
       "      <td>0.0</td>\n",
       "      <td>1.0</td>\n",
       "      <td>0.0</td>\n",
       "      <td>0.0</td>\n",
       "      <td>0</td>\n",
       "    </tr>\n",
       "    <tr>\n",
       "      <th>5</th>\n",
       "      <td>1.0</td>\n",
       "      <td>4.0</td>\n",
       "      <td>0.0</td>\n",
       "      <td>0.0</td>\n",
       "      <td>0.0</td>\n",
       "      <td>0.0</td>\n",
       "      <td>0.0</td>\n",
       "      <td>0.0</td>\n",
       "      <td>0.0</td>\n",
       "      <td>0.0</td>\n",
       "      <td>...</td>\n",
       "      <td>0.0</td>\n",
       "      <td>0.0</td>\n",
       "      <td>0.0</td>\n",
       "      <td>0.0</td>\n",
       "      <td>0.0</td>\n",
       "      <td>0.0</td>\n",
       "      <td>0.0</td>\n",
       "      <td>0.0</td>\n",
       "      <td>3.0</td>\n",
       "      <td>0</td>\n",
       "    </tr>\n",
       "  </tbody>\n",
       "</table>\n",
       "<p>5 rows × 135 columns</p>\n",
       "</div>"
      ],
      "text/plain": [
       "aisle    air fresheners candles  asian foods  baby accessories  \\\n",
       "user_id                                                          \n",
       "1                           0.0          0.0               0.0   \n",
       "2                           0.0          3.0               0.0   \n",
       "3                           0.0          0.0               0.0   \n",
       "4                           0.0          0.0               0.0   \n",
       "5                           1.0          4.0               0.0   \n",
       "\n",
       "aisle    baby bath body care  baby food formula  bakery desserts  \\\n",
       "user_id                                                            \n",
       "1                        0.0                0.0              0.0   \n",
       "2                        0.0                0.0              0.0   \n",
       "3                        0.0                0.0              0.0   \n",
       "4                        0.0                0.0              0.0   \n",
       "5                        0.0                0.0              0.0   \n",
       "\n",
       "aisle    baking ingredients  baking supplies decor  beauty  beers coolers  \\\n",
       "user_id                                                                     \n",
       "1                       0.0                    0.0     0.0            0.0   \n",
       "2                       2.0                    0.0     0.0            0.0   \n",
       "3                       0.0                    0.0     0.0            0.0   \n",
       "4                       0.0                    0.0     0.0            0.0   \n",
       "5                       0.0                    0.0     0.0            0.0   \n",
       "\n",
       "aisle    ...  tea  tofu meat alternatives  tortillas flat bread  \\\n",
       "user_id  ...                                                      \n",
       "1        ...  0.0                     0.0                   0.0   \n",
       "2        ...  1.0                     1.0                   0.0   \n",
       "3        ...  1.0                     0.0                   0.0   \n",
       "4        ...  0.0                     0.0                   1.0   \n",
       "5        ...  0.0                     0.0                   0.0   \n",
       "\n",
       "aisle    trail mix snack mix  trash bags liners  vitamins supplements  \\\n",
       "user_id                                                                 \n",
       "1                        0.0                0.0                   0.0   \n",
       "2                        0.0                0.0                   0.0   \n",
       "3                        0.0                0.0                   0.0   \n",
       "4                        0.0                0.0                   0.0   \n",
       "5                        0.0                0.0                   0.0   \n",
       "\n",
       "aisle    water seltzer sparkling water  white wines  yogurt  label  \n",
       "user_id                                                             \n",
       "1                                  0.0          0.0     2.0      0  \n",
       "2                                  2.0          0.0    42.0      2  \n",
       "3                                  2.0          0.0     0.0      0  \n",
       "4                                  1.0          0.0     0.0      0  \n",
       "5                                  0.0          0.0     3.0      0  \n",
       "\n",
       "[5 rows x 135 columns]"
      ]
     },
     "execution_count": 16,
     "metadata": {},
     "output_type": "execute_result"
    }
   ],
   "source": [
    "# add label to original df\n",
    "new_df1 = new_df\n",
    "new_df1['label'] = label\n",
    "new_df1.head()"
   ]
  },
  {
   "cell_type": "code",
   "execution_count": 17,
   "metadata": {},
   "outputs": [
    {
     "name": "stdout",
     "output_type": "stream",
     "text": [
      "How many users are assgined to each label?\n",
      "Label 0: 183540\n",
      "Label 1: 12995\n",
      "Label 2: 9674\n"
     ]
    }
   ],
   "source": [
    "label_0 = new_df1[new_df1.label == 0]\n",
    "label_1 = new_df1[new_df1.label == 1]\n",
    "label_2 = new_df1[new_df1.label == 2]\n",
    "\n",
    "print('How many users are assgined to each label?')\n",
    "print('Label 0: '+ str(label_0.shape[0]))\n",
    "print('Label 1: '+ str(label_1.shape[0]))\n",
    "print('Label 2: '+ str(label_2.shape[0]))"
   ]
  },
  {
   "cell_type": "markdown",
   "metadata": {},
   "source": [
    "For here we try to see the "
   ]
  },
  {
   "cell_type": "code",
   "execution_count": 18,
   "metadata": {},
   "outputs": [
    {
     "name": "stdout",
     "output_type": "stream",
     "text": [
      "Customer buying preferrence of Label 0\n"
     ]
    },
    {
     "data": {
      "text/plain": [
       "aisle\n",
       "fresh fruits                     10.828931\n",
       "fresh vegetables                 10.128005\n",
       "packaged vegetables fruits        5.669854\n",
       "yogurt                            4.198687\n",
       "packaged cheese                   3.326256\n",
       "water seltzer sparkling water     3.095581\n",
       "milk                              2.872518\n",
       "chips pretzels                    2.609687\n",
       "soy lactosefree                   2.119571\n",
       "bread                             2.008766\n",
       "dtype: float64"
      ]
     },
     "execution_count": 18,
     "metadata": {},
     "output_type": "execute_result"
    }
   ],
   "source": [
    "#see the distribution of the total count of each aisle in each label\n",
    "l = label_0.mean().sort_values(ascending = False)\n",
    "print('Customer buying preferrence of Label 0')\n",
    "l.head(10)"
   ]
  },
  {
   "cell_type": "code",
   "execution_count": 19,
   "metadata": {},
   "outputs": [
    {
     "name": "stdout",
     "output_type": "stream",
     "text": [
      "Customer buying preferrence of Label 1\n"
     ]
    },
    {
     "data": {
      "text/plain": [
       "aisle\n",
       "fresh vegetables              105.258638\n",
       "fresh fruits                   72.468103\n",
       "packaged vegetables fruits     36.620392\n",
       "yogurt                         16.811466\n",
       "packaged cheese                15.487187\n",
       "milk                           13.099808\n",
       "fresh herbs                    11.982070\n",
       "soy lactosefree                11.303578\n",
       "frozen produce                  9.906195\n",
       "bread                           8.933590\n",
       "dtype: float64"
      ]
     },
     "execution_count": 19,
     "metadata": {},
     "output_type": "execute_result"
    }
   ],
   "source": [
    "l = label_1.mean().sort_values(ascending = False)\n",
    "print('Customer buying preferrence of Label 1')\n",
    "l.head(10)"
   ]
  },
  {
   "cell_type": "code",
   "execution_count": 20,
   "metadata": {},
   "outputs": [
    {
     "name": "stdout",
     "output_type": "stream",
     "text": [
      "Customer buying preferrence of Label 2\n"
     ]
    },
    {
     "data": {
      "text/plain": [
       "aisle\n",
       "fresh fruits                     89.249121\n",
       "yogurt                           53.596341\n",
       "fresh vegetables                 35.342154\n",
       "packaged vegetables fruits       33.830784\n",
       "milk                             23.382779\n",
       "packaged cheese                  21.677176\n",
       "water seltzer sparkling water    20.046206\n",
       "chips pretzels                   17.367066\n",
       "energy granola bars              15.160017\n",
       "baby food formula                14.430225\n",
       "dtype: float64"
      ]
     },
     "execution_count": 20,
     "metadata": {},
     "output_type": "execute_result"
    }
   ],
   "source": [
    "l = label_2.mean().sort_values(ascending = False)\n",
    "print('Customer buying preferrence of Label 2')\n",
    "l.head(10)"
   ]
  },
  {
   "cell_type": "markdown",
   "metadata": {},
   "source": [
    "From here we can see that the customer behaviors in three labels are similar. So maybe using PCA here do not bring more assistance."
   ]
  },
  {
   "cell_type": "markdown",
   "metadata": {},
   "source": [
    "#### 1.3 Customer Segmentation with Clustering Only"
   ]
  },
  {
   "cell_type": "code",
   "execution_count": 21,
   "metadata": {},
   "outputs": [
    {
     "data": {
      "text/html": [
       "<div>\n",
       "<style scoped>\n",
       "    .dataframe tbody tr th:only-of-type {\n",
       "        vertical-align: middle;\n",
       "    }\n",
       "\n",
       "    .dataframe tbody tr th {\n",
       "        vertical-align: top;\n",
       "    }\n",
       "\n",
       "    .dataframe thead th {\n",
       "        text-align: right;\n",
       "    }\n",
       "</style>\n",
       "<table border=\"1\" class=\"dataframe\">\n",
       "  <thead>\n",
       "    <tr style=\"text-align: right;\">\n",
       "      <th>aisle</th>\n",
       "      <th>air fresheners candles</th>\n",
       "      <th>asian foods</th>\n",
       "      <th>baby accessories</th>\n",
       "      <th>baby bath body care</th>\n",
       "      <th>baby food formula</th>\n",
       "      <th>bakery desserts</th>\n",
       "      <th>baking ingredients</th>\n",
       "      <th>baking supplies decor</th>\n",
       "      <th>beauty</th>\n",
       "      <th>beers coolers</th>\n",
       "      <th>...</th>\n",
       "      <th>tea</th>\n",
       "      <th>tofu meat alternatives</th>\n",
       "      <th>tortillas flat bread</th>\n",
       "      <th>trail mix snack mix</th>\n",
       "      <th>trash bags liners</th>\n",
       "      <th>vitamins supplements</th>\n",
       "      <th>water seltzer sparkling water</th>\n",
       "      <th>white wines</th>\n",
       "      <th>yogurt</th>\n",
       "      <th>label</th>\n",
       "    </tr>\n",
       "    <tr>\n",
       "      <th>user_id</th>\n",
       "      <th></th>\n",
       "      <th></th>\n",
       "      <th></th>\n",
       "      <th></th>\n",
       "      <th></th>\n",
       "      <th></th>\n",
       "      <th></th>\n",
       "      <th></th>\n",
       "      <th></th>\n",
       "      <th></th>\n",
       "      <th></th>\n",
       "      <th></th>\n",
       "      <th></th>\n",
       "      <th></th>\n",
       "      <th></th>\n",
       "      <th></th>\n",
       "      <th></th>\n",
       "      <th></th>\n",
       "      <th></th>\n",
       "      <th></th>\n",
       "      <th></th>\n",
       "    </tr>\n",
       "  </thead>\n",
       "  <tbody>\n",
       "    <tr>\n",
       "      <th>1</th>\n",
       "      <td>0.0</td>\n",
       "      <td>0.0</td>\n",
       "      <td>0.0</td>\n",
       "      <td>0.0</td>\n",
       "      <td>0.0</td>\n",
       "      <td>0.0</td>\n",
       "      <td>0.0</td>\n",
       "      <td>0.0</td>\n",
       "      <td>0.0</td>\n",
       "      <td>0.0</td>\n",
       "      <td>...</td>\n",
       "      <td>0.0</td>\n",
       "      <td>0.0</td>\n",
       "      <td>0.0</td>\n",
       "      <td>0.0</td>\n",
       "      <td>0.0</td>\n",
       "      <td>0.0</td>\n",
       "      <td>0.0</td>\n",
       "      <td>0.0</td>\n",
       "      <td>2.0</td>\n",
       "      <td>0</td>\n",
       "    </tr>\n",
       "    <tr>\n",
       "      <th>2</th>\n",
       "      <td>0.0</td>\n",
       "      <td>3.0</td>\n",
       "      <td>0.0</td>\n",
       "      <td>0.0</td>\n",
       "      <td>0.0</td>\n",
       "      <td>0.0</td>\n",
       "      <td>2.0</td>\n",
       "      <td>0.0</td>\n",
       "      <td>0.0</td>\n",
       "      <td>0.0</td>\n",
       "      <td>...</td>\n",
       "      <td>1.0</td>\n",
       "      <td>1.0</td>\n",
       "      <td>0.0</td>\n",
       "      <td>0.0</td>\n",
       "      <td>0.0</td>\n",
       "      <td>0.0</td>\n",
       "      <td>2.0</td>\n",
       "      <td>0.0</td>\n",
       "      <td>42.0</td>\n",
       "      <td>2</td>\n",
       "    </tr>\n",
       "    <tr>\n",
       "      <th>3</th>\n",
       "      <td>0.0</td>\n",
       "      <td>0.0</td>\n",
       "      <td>0.0</td>\n",
       "      <td>0.0</td>\n",
       "      <td>0.0</td>\n",
       "      <td>0.0</td>\n",
       "      <td>0.0</td>\n",
       "      <td>0.0</td>\n",
       "      <td>0.0</td>\n",
       "      <td>0.0</td>\n",
       "      <td>...</td>\n",
       "      <td>1.0</td>\n",
       "      <td>0.0</td>\n",
       "      <td>0.0</td>\n",
       "      <td>0.0</td>\n",
       "      <td>0.0</td>\n",
       "      <td>0.0</td>\n",
       "      <td>2.0</td>\n",
       "      <td>0.0</td>\n",
       "      <td>0.0</td>\n",
       "      <td>0</td>\n",
       "    </tr>\n",
       "    <tr>\n",
       "      <th>4</th>\n",
       "      <td>0.0</td>\n",
       "      <td>0.0</td>\n",
       "      <td>0.0</td>\n",
       "      <td>0.0</td>\n",
       "      <td>0.0</td>\n",
       "      <td>0.0</td>\n",
       "      <td>0.0</td>\n",
       "      <td>0.0</td>\n",
       "      <td>0.0</td>\n",
       "      <td>0.0</td>\n",
       "      <td>...</td>\n",
       "      <td>0.0</td>\n",
       "      <td>0.0</td>\n",
       "      <td>1.0</td>\n",
       "      <td>0.0</td>\n",
       "      <td>0.0</td>\n",
       "      <td>0.0</td>\n",
       "      <td>1.0</td>\n",
       "      <td>0.0</td>\n",
       "      <td>0.0</td>\n",
       "      <td>0</td>\n",
       "    </tr>\n",
       "    <tr>\n",
       "      <th>5</th>\n",
       "      <td>1.0</td>\n",
       "      <td>4.0</td>\n",
       "      <td>0.0</td>\n",
       "      <td>0.0</td>\n",
       "      <td>0.0</td>\n",
       "      <td>0.0</td>\n",
       "      <td>0.0</td>\n",
       "      <td>0.0</td>\n",
       "      <td>0.0</td>\n",
       "      <td>0.0</td>\n",
       "      <td>...</td>\n",
       "      <td>0.0</td>\n",
       "      <td>0.0</td>\n",
       "      <td>0.0</td>\n",
       "      <td>0.0</td>\n",
       "      <td>0.0</td>\n",
       "      <td>0.0</td>\n",
       "      <td>0.0</td>\n",
       "      <td>0.0</td>\n",
       "      <td>3.0</td>\n",
       "      <td>0</td>\n",
       "    </tr>\n",
       "  </tbody>\n",
       "</table>\n",
       "<p>5 rows × 135 columns</p>\n",
       "</div>"
      ],
      "text/plain": [
       "aisle    air fresheners candles  asian foods  baby accessories  \\\n",
       "user_id                                                          \n",
       "1                           0.0          0.0               0.0   \n",
       "2                           0.0          3.0               0.0   \n",
       "3                           0.0          0.0               0.0   \n",
       "4                           0.0          0.0               0.0   \n",
       "5                           1.0          4.0               0.0   \n",
       "\n",
       "aisle    baby bath body care  baby food formula  bakery desserts  \\\n",
       "user_id                                                            \n",
       "1                        0.0                0.0              0.0   \n",
       "2                        0.0                0.0              0.0   \n",
       "3                        0.0                0.0              0.0   \n",
       "4                        0.0                0.0              0.0   \n",
       "5                        0.0                0.0              0.0   \n",
       "\n",
       "aisle    baking ingredients  baking supplies decor  beauty  beers coolers  \\\n",
       "user_id                                                                     \n",
       "1                       0.0                    0.0     0.0            0.0   \n",
       "2                       2.0                    0.0     0.0            0.0   \n",
       "3                       0.0                    0.0     0.0            0.0   \n",
       "4                       0.0                    0.0     0.0            0.0   \n",
       "5                       0.0                    0.0     0.0            0.0   \n",
       "\n",
       "aisle    ...  tea  tofu meat alternatives  tortillas flat bread  \\\n",
       "user_id  ...                                                      \n",
       "1        ...  0.0                     0.0                   0.0   \n",
       "2        ...  1.0                     1.0                   0.0   \n",
       "3        ...  1.0                     0.0                   0.0   \n",
       "4        ...  0.0                     0.0                   1.0   \n",
       "5        ...  0.0                     0.0                   0.0   \n",
       "\n",
       "aisle    trail mix snack mix  trash bags liners  vitamins supplements  \\\n",
       "user_id                                                                 \n",
       "1                        0.0                0.0                   0.0   \n",
       "2                        0.0                0.0                   0.0   \n",
       "3                        0.0                0.0                   0.0   \n",
       "4                        0.0                0.0                   0.0   \n",
       "5                        0.0                0.0                   0.0   \n",
       "\n",
       "aisle    water seltzer sparkling water  white wines  yogurt  label  \n",
       "user_id                                                             \n",
       "1                                  0.0          0.0     2.0      0  \n",
       "2                                  2.0          0.0    42.0      2  \n",
       "3                                  2.0          0.0     0.0      0  \n",
       "4                                  1.0          0.0     0.0      0  \n",
       "5                                  0.0          0.0     3.0      0  \n",
       "\n",
       "[5 rows x 135 columns]"
      ]
     },
     "execution_count": 21,
     "metadata": {},
     "output_type": "execute_result"
    }
   ],
   "source": [
    "# directly try kmeans and evaluate its performance \n",
    "new_df.head()"
   ]
  },
  {
   "cell_type": "code",
   "execution_count": 22,
   "metadata": {},
   "outputs": [
    {
     "data": {
      "image/png": "[encoded data removed]",
      "text/plain": [
       "<Figure size 432x288 with 1 Axes>"
      ]
     },
     "metadata": {
      "needs_background": "light"
     },
     "output_type": "display_data"
    }
   ],
   "source": [
    "#Use CH Score and SSE to evaluate the number of clusters\n",
    "CH_Score(new_df)"
   ]
  },
  {
   "cell_type": "code",
   "execution_count": 23,
   "metadata": {},
   "outputs": [
    {
     "ename": "TypeError",
     "evalue": "'float' object is not callable",
     "output_type": "error",
     "traceback": [
      "\u001b[1;31m---------------------------------------------------------------------------\u001b[0m",
      "\u001b[1;31mTypeError\u001b[0m                                 Traceback (most recent call last)",
      "\u001b[1;32m<ipython-input-23-d52a5c53c9ab>\u001b[0m in \u001b[0;36m<module>\u001b[1;34m\u001b[0m\n\u001b[1;32m----> 1\u001b[1;33m \u001b[0msse\u001b[0m\u001b[1;33m(\u001b[0m\u001b[0mnew_df\u001b[0m\u001b[1;33m)\u001b[0m\u001b[1;33m\u001b[0m\u001b[1;33m\u001b[0m\u001b[0m\n\u001b[0m",
      "\u001b[1;31mTypeError\u001b[0m: 'float' object is not callable"
     ]
    }
   ],
   "source": [
    "sse(new_df)"
   ]
  },
  {
   "cell_type": "markdown",
   "metadata": {},
   "source": [
    "2 clusters or 3 clusters might be well here"
   ]
  },
  {
   "cell_type": "code",
   "execution_count": null,
   "metadata": {},
   "outputs": [],
   "source": [
    "# 2 Clusters Analysis\n",
    "y_kmeans, centers, label, sse = kmeans(2, new_df)\n",
    "new_df1 = new_df\n",
    "new_df1['label'] = label\n",
    "new_df1.head()"
   ]
  },
  {
   "cell_type": "code",
   "execution_count": null,
   "metadata": {},
   "outputs": [],
   "source": [
    "label_0 = new_df1[new_df1.label == 0]\n",
    "label_1 = new_df1[new_df1.label == 1]\n",
    "\n",
    "print('How many users are assgined to each label?')\n",
    "print('Label 0: '+ str(label_0.shape[0]))\n",
    "print('Label 1: '+ str(label_1.shape[0]))"
   ]
  },
  {
   "cell_type": "code",
   "execution_count": null,
   "metadata": {},
   "outputs": [],
   "source": [
    "#see the distribution of the total count of each aisle in each label\n",
    "l = label_0.mean().sort_values(ascending = False)\n",
    "print('Customer buying preferrence of Label 0')\n",
    "l.head(10)"
   ]
  },
  {
   "cell_type": "code",
   "execution_count": null,
   "metadata": {},
   "outputs": [],
   "source": [
    "l1 = label_1.mean().sort_values(ascending = False)\n",
    "print('Customer buying preferrence of Label 1')\n",
    "l1.head(10)"
   ]
  },
  {
   "cell_type": "code",
   "execution_count": null,
   "metadata": {},
   "outputs": [],
   "source": [
    "plt.figure()  \n",
    "plt.plot(l, \"-b\", label=\"Label 0\")\n",
    "plt.plot(l1, \"-r\", label=\"Label 1\")\n",
    "plt.xlabel(\"aisle\")  \n",
    "plt.ylabel(\"avg buying\")  \n",
    "plt.legend(loc=\"upper right\")\n",
    "plt.title(\"Label 0 and Label 1 Customer Stats\") "
   ]
  },
  {
   "cell_type": "markdown",
   "metadata": {},
   "source": [
    "#### 1.4 Customer Segmentation Further Explore\n",
    "From this two clusters, we can make an attempt that: our customers can be divided into two groups: group 1: Small Quantity Purchasing, group 2: large Quantity Purchasing. Further more, is customers in group 1 has higher number or frequency of purchases than people in group 2"
   ]
  },
  {
   "cell_type": "code",
   "execution_count": null,
   "metadata": {},
   "outputs": [],
   "source": [
    "new_df.head()"
   ]
  },
  {
   "cell_type": "code",
   "execution_count": null,
   "metadata": {},
   "outputs": [],
   "source": [
    "joint = pd.DataFrame({\n",
    "    'label': new_df['label']\n",
    "})\n",
    "joint = joint.reset_index()\n",
    "joint.columns = ['user_id','label']\n",
    "joint.head()"
   ]
  },
  {
   "cell_type": "code",
   "execution_count": null,
   "metadata": {},
   "outputs": [],
   "source": [
    "# join the order.csv and the table above\n",
    "joint02 = orders.merge(joint,  on = 'user_id', how = 'left')\n",
    "joint02.head()"
   ]
  },
  {
   "cell_type": "code",
   "execution_count": null,
   "metadata": {
    "scrolled": true
   },
   "outputs": [],
   "source": [
    "label_0 = joint02[joint02.label == 0]\n",
    "label_1 = joint02[joint02.label == 1]\n",
    "\n",
    "a = label_0['order_id'].groupby(label_0['user_id']).count()\n",
    "print('Average time of purchases of Label 0')\n",
    "print(a.mean())\n",
    "a"
   ]
  },
  {
   "cell_type": "code",
   "execution_count": null,
   "metadata": {},
   "outputs": [],
   "source": [
    "a = label_0['days_since_prior_order'].groupby(label_0['user_id']).mean()\n",
    "print('Average time interval of purchases of Label 0')\n",
    "print(a.mean())\n",
    "a"
   ]
  },
  {
   "cell_type": "code",
   "execution_count": null,
   "metadata": {},
   "outputs": [],
   "source": [
    "a = label_1['order_id'].groupby(label_1['user_id']).count()\n",
    "print('Average time of purchases of Label 1')\n",
    "print(a.mean())\n",
    "a"
   ]
  },
  {
   "cell_type": "code",
   "execution_count": null,
   "metadata": {},
   "outputs": [],
   "source": [
    "a = label_1['days_since_prior_order'].groupby(label_1['user_id']).mean()\n",
    "print('Average time interval of purchases of Label 1')\n",
    "print(a.mean())\n",
    "a"
   ]
  },
  {
   "cell_type": "markdown",
   "metadata": {},
   "source": [
    "##### Conclusion\n",
    "From the attempt above, the customers can be divided into two groups:\n",
    "\n",
    "Group 1 (Normal Customer): The customers' time of purchase is 13.2, and the interval period between two purchase is 16.2 days, 90% Customers are in this group\n",
    "\n",
    "Group 2 (Frequent Customer): The customers' time of purchase is 48.8 (much higher than group 1), and the interval period between two purchase is 7.9 days (half of Group 1), 10% Customers are in this group"
   ]
  },
  {
   "cell_type": "markdown",
   "metadata": {},
   "source": [
    "#### 1.5 Is that other measurement or approach to analyze the customer segmentation?\n",
    "\n",
    "How about binary table for the original data set: if user have purchase on the aisle, just count as 1, instead of certain quantity?"
   ]
  },
  {
   "cell_type": "code",
   "execution_count": null,
   "metadata": {},
   "outputs": [],
   "source": [
    "df_joint01_bin = df_joint01\n",
    "df_joint01_bin.loc[df_joint01_bin['aisle_id'] > 0, 'aisle_id'] = 1\n",
    "df_joint01_bin.head()"
   ]
  },
  {
   "cell_type": "code",
   "execution_count": null,
   "metadata": {},
   "outputs": [],
   "source": [
    "new_df_bin = pd.pivot_table(df_joint01, \n",
    "                   index = ['user_id'],\n",
    "                   columns = ['aisle'],\n",
    "                   aggfunc = 'max')\n",
    "new_df_bin = new_df_bin.fillna(0)\n",
    "new_df_bin.columns = new_df_bin.columns.droplevel()\n",
    "new_df_bin = pd.DataFrame(\n",
    "        new_df_bin.values,\n",
    "        index = new_df_bin.index,\n",
    "        columns = new_df_bin.columns\n",
    ")\n",
    "new_df_bin.head()"
   ]
  },
  {
   "cell_type": "code",
   "execution_count": null,
   "metadata": {},
   "outputs": [],
   "source": [
    "#Show CH Score of this table\n",
    "CH_Score(new_df_bin)    "
   ]
  },
  {
   "cell_type": "code",
   "execution_count": null,
   "metadata": {},
   "outputs": [],
   "source": [
    "sse(new_df_bin)"
   ]
  },
  {
   "cell_type": "code",
   "execution_count": null,
   "metadata": {},
   "outputs": [],
   "source": [
    "y_kmeans, centers, label, sse = kmeans(2, new_df_bin)\n",
    "new_df_bin1 = new_df_bin\n",
    "new_df_bin1['label'] = label\n",
    "new_df_bin1.head()"
   ]
  },
  {
   "cell_type": "code",
   "execution_count": null,
   "metadata": {},
   "outputs": [],
   "source": [
    "label_0 = new_df_bin1[new_df_bin1.label == 0]\n",
    "label_1 = new_df_bin1[new_df_bin1.label == 1]\n",
    "\n",
    "print('How many users are assgined to each label?')\n",
    "print('Label 0: '+ str(label_0.shape[0]))\n",
    "print('Label 1: '+ str(label_1.shape[0]))"
   ]
  },
  {
   "cell_type": "code",
   "execution_count": null,
   "metadata": {},
   "outputs": [],
   "source": [
    "l = label_0.mean().sort_values(ascending = False)\n",
    "print('Customer buying preferrence of Label 0')\n",
    "l.head(10)"
   ]
  },
  {
   "cell_type": "code",
   "execution_count": null,
   "metadata": {},
   "outputs": [],
   "source": [
    "label_1.label = 0\n",
    "l1 = label_1.mean().sort_values(ascending = False)\n",
    "print('Customer buying preferrence of Label 1')\n",
    "l1.head(10)"
   ]
  },
  {
   "cell_type": "code",
   "execution_count": null,
   "metadata": {},
   "outputs": [],
   "source": [
    "# Plot\n",
    "plt.figure()  \n",
    "plt.plot(l, \"-b\", label=\"Label 0\")\n",
    "plt.plot(l1, \"-r\", label=\"Label 1\")\n",
    "plt.xlabel(\"aisle\")  \n",
    "plt.ylabel(\"avg buying\")  \n",
    "plt.legend(loc=\"upper right\")\n",
    "plt.title(\"Label 0 and Label 1 Customer Stats\") "
   ]
  },
  {
   "cell_type": "code",
   "execution_count": null,
   "metadata": {},
   "outputs": [],
   "source": [
    "joint = pd.DataFrame({\n",
    "    'label': new_df_bin1['label']\n",
    "})\n",
    "joint = joint.reset_index()\n",
    "joint.columns = ['user_id','label']\n",
    "joint.head()"
   ]
  },
  {
   "cell_type": "code",
   "execution_count": null,
   "metadata": {},
   "outputs": [],
   "source": [
    "joint02 = orders.merge(joint,  on = 'user_id', how = 'left')\n",
    "joint02.head()"
   ]
  },
  {
   "cell_type": "code",
   "execution_count": null,
   "metadata": {},
   "outputs": [],
   "source": [
    "label_0 = joint02[joint02.label == 0]\n",
    "label_1 = joint02[joint02.label == 1]\n",
    "\n",
    "a = label_0['order_id'].groupby(label_0['user_id']).count()\n",
    "print('Average time of purchases of Label 0')\n",
    "print(a.mean())\n",
    "a"
   ]
  },
  {
   "cell_type": "code",
   "execution_count": null,
   "metadata": {},
   "outputs": [],
   "source": [
    "a = label_0['days_since_prior_order'].groupby(label_0['user_id']).mean()\n",
    "print('Average time interval of purchases of Label 0')\n",
    "print(a.mean())\n",
    "a"
   ]
  },
  {
   "cell_type": "code",
   "execution_count": null,
   "metadata": {},
   "outputs": [],
   "source": [
    "a = label_1['order_id'].groupby(label_1['user_id']).count()\n",
    "print('Average time of purchases of Label 1')\n",
    "print(a.mean())\n",
    "a"
   ]
  },
  {
   "cell_type": "code",
   "execution_count": null,
   "metadata": {},
   "outputs": [],
   "source": [
    "a = label_1['days_since_prior_order'].groupby(label_1['user_id']).mean()\n",
    "print('Average time interval of purchases of Label 1')\n",
    "print(a.mean())\n",
    "a"
   ]
  },
  {
   "cell_type": "code",
   "execution_count": null,
   "metadata": {},
   "outputs": [],
   "source": []
  }
 ],
 "metadata": {
  "kernelspec": {
   "display_name": "Python 3",
   "language": "python",
   "name": "python3"
  },
  "language_info": {
   "codemirror_mode": {
    "name": "ipython",
    "version": 3
   },
   "file_extension": ".py",
   "mimetype": "text/x-python",
   "name": "python",
   "nbconvert_exporter": "python",
   "pygments_lexer": "ipython3",
   "version": "3.8.3"
  }
 },
 "nbformat": 4,
 "nbformat_minor": 4
}
